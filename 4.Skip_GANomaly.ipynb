{
 "cells": [
  {
   "cell_type": "markdown",
   "metadata": {
    "id": "AcAZzxB3FvGl"
   },
   "source": [
    "# <center>tf.KerasによるSkip-GANomaly</center>\n",
    "\n",
    "異常検知を実装して見ましょう。このコードを元にGANomalyなども簡単に実装できるので、性能を比較してみると良い。\n",
    "\n"
   ]
  },
  {
   "cell_type": "code",
   "execution_count": 1,
   "metadata": {
    "id": "JP5zcWSMFsOB"
   },
   "outputs": [],
   "source": [
    "import numpy as np\n",
    "import matplotlib.pyplot as plt\n",
    "%matplotlib inline"
   ]
  },
  {
   "cell_type": "markdown",
   "metadata": {
    "id": "hzgPUqamckik"
   },
   "source": [
    "今回使うモデルのサイズと深さを決めておきましょう："
   ]
  },
  {
   "cell_type": "code",
   "execution_count": 2,
   "metadata": {
    "id": "-LIDYcaAajCe"
   },
   "outputs": [],
   "source": [
    "SIZE = 32\n",
    "DEPTH = 4\n",
    "DATASET_PATH = './save_weight/SkipGANormaly'"
   ]
  },
  {
   "cell_type": "markdown",
   "metadata": {
    "id": "GWUE7RifOTGm"
   },
   "source": [
    "# 1. モデルの作成\n",
    "\n",
    "ジェネレータはUNetベースなので、もう勉強済みなので実装は簡単。ただ今回はインスタンス規格化を使うので、TensorFlow Addonsをインストールする。\n",
    "\n",
    "pip install tensorflow-addon"
   ]
  },
  {
   "cell_type": "markdown",
   "metadata": {
    "id": "HE1lbk9qMTrm"
   },
   "source": [
    "以下の部品は、ほぼ以前のUNetの実装の通り："
   ]
  },
  {
   "cell_type": "code",
   "execution_count": 3,
   "metadata": {
    "id": "NlrxylMBF4Ry"
   },
   "outputs": [],
   "source": [
    "import tensorflow as tf\n",
    "from tensorflow.keras import layers\n",
    "from tensorflow.keras import Model, Input\n",
    "\n",
    "from tensorflow_addons.layers import InstanceNormalization\n",
    "from tensorflow.keras.initializers import RandomNormal\n",
    "\n",
    "gamma_initializer = RandomNormal(mean=0.0, stddev=0.02)"
   ]
  },
  {
   "cell_type": "markdown",
   "metadata": {},
   "source": [
    "## Generator "
   ]
  },
  {
   "cell_type": "code",
   "execution_count": 4,
   "metadata": {},
   "outputs": [],
   "source": [
    "class conv_block(tf.keras.layers.Layer):\n",
    "    def __init__(self, n_channels, kernel_size, Dropout=False, Maxpool=True):\n",
    "        super(conv_block, self).__init__()\n",
    "        self.n_channels = n_channels\n",
    "        self.kernel_size = kernel_size\n",
    "        self.dropout = Dropout\n",
    "        self.maxpool = Maxpool\n",
    "        \n",
    "        self.layer1 = layers.Conv2D(self.n_channels, self.kernel_size, padding='same')\n",
    "        self.norm1 = InstanceNormalization()\n",
    "        self.layer2 = layers.Conv2D(self.n_channels, self.kernel_size, padding='same')\n",
    "        self.norm2 = InstanceNormalization()\n",
    "        self.maxlayer = layers.MaxPool2D((2,2),padding='same')\n",
    "        \n",
    "    def call(self, inputs):\n",
    "        x = self.layer1(inputs)\n",
    "        x = self.norm1(x)\n",
    "        x = layers.LeakyReLU(0.2)(x)\n",
    "        x = self.layer2(x)\n",
    "        x = self.norm2(x)\n",
    "        x = layers.LeakyReLU(0.2)(x)\n",
    "        down = x\n",
    "        \n",
    "        if self.dropout == True:\n",
    "            x = layers.Dropout(0.5)(x)\n",
    "        \n",
    "        if self.maxpool == True:\n",
    "            x = self.maxlayer(x)\n",
    "\n",
    "        return x, down\n",
    "    \n",
    "class upconv_block(tf.keras.layers.Layer):\n",
    "    def __init__(self, n_channels, kernel_size):\n",
    "        super(upconv_block, self).__init__()\n",
    "        self.n_channels = n_channels\n",
    "        \n",
    "        self.layer1 = layers.Conv2D(self.n_channels, (2,2), padding='same')\n",
    "        self.norm1 = InstanceNormalization()\n",
    "        self.layer2 = layers.Conv2D(self.n_channels, (3,3), padding='same')\n",
    "        self.norm2 = InstanceNormalization()\n",
    "        \n",
    "    def call(self, inputs, downsampling_layers):\n",
    "        # Upsamplingでサイズを倍にした後、2x2 Convでチャネル数を変更。TransposeConvを使うのでも良い\n",
    "        x = layers.UpSampling2D((2, 2))(inputs)\n",
    "        x = self.layer1(x)\n",
    "        x = self.norm1(x)\n",
    "        x = layers.Activation('relu')(x)\n",
    "        \n",
    "        x = layers.Concatenate()([x, downsampling_layers])\n",
    "        x = self.layer2(x)\n",
    "        x = self.norm2(x)\n",
    "        x = layers.Activation('relu')(x)\n",
    "\n",
    "        return x"
   ]
  },
  {
   "cell_type": "code",
   "execution_count": 5,
   "metadata": {},
   "outputs": [],
   "source": [
    "class Generator(tf.keras.Model):\n",
    "    def __init__(self, size, depth):\n",
    "        super(Generator, self).__init__()\n",
    "        self.size = size\n",
    "        self.depth = depth\n",
    "        self.n_classes = 3\n",
    "        \n",
    "        self.encoder1 = conv_block(64, 3)\n",
    "        self.encoder2 = conv_block(128,3)\n",
    "        self.encoder3 = conv_block(256,3)\n",
    "        self.encoder4 = conv_block(512,3,True)\n",
    "        self.encoder5 = conv_block(1024,3,True,False)\n",
    "        \n",
    "        self.decoder1 = upconv_block(512,3)\n",
    "        self.decoder2 = upconv_block(256,3)\n",
    "        self.decoder3 = upconv_block(128,3)\n",
    "        self.decoder4 = upconv_block(64,3)\n",
    "        \n",
    "        self.last_layer = layers.Conv2D(self.n_classes, (1,1), padding='same', activation='tanh')\n",
    "        \n",
    "    def call(self, inputs):\n",
    "        downsampling_layers = []\n",
    "        \n",
    "        x, down = self.encoder1(inputs)\n",
    "        downsampling_layers.append(down)\n",
    "        \n",
    "        x, down = self.encoder2(x)\n",
    "        downsampling_layers.append(down)\n",
    "        \n",
    "        x, down = self.encoder3(x)\n",
    "        downsampling_layers.append(down)\n",
    "        \n",
    "        x, down = self.encoder4(x)\n",
    "        downsampling_layers.append(down)\n",
    "        \n",
    "        x, _ = self.encoder5(x)\n",
    "        x = layers.Dropout(0.5)(x)\n",
    "        downsampling_layers = downsampling_layers[::-1] #ひっくり返す\n",
    "        \n",
    "        x = self.decoder1(x,downsampling_layers[0])\n",
    "        x = self.decoder2(x,downsampling_layers[1])\n",
    "        x = self.decoder3(x,downsampling_layers[2])\n",
    "        x = self.decoder4(x,downsampling_layers[3])\n",
    "        x = self.last_layer(x)\n",
    "\n",
    "        return x\n",
    "    \n",
    "    #Subclass APIでSummaryを作るために利用する関数\n",
    "    def my_summary(self, input_shape):\n",
    "        \n",
    "        tmp_x = Input(shape=input_shape, name='tmp_input')\n",
    "        tmp_m = Model(inputs=tmp_x, outputs=self.call(tmp_x), name='tmp_model')\n",
    "        tmp_m.summary()\n",
    "        del tmp_x, tmp_m"
   ]
  },
  {
   "cell_type": "code",
   "execution_count": 6,
   "metadata": {
    "id": "pV5CGF3UnQYe"
   },
   "outputs": [
    {
     "name": "stdout",
     "output_type": "stream",
     "text": [
      "Model: \"tmp_model\"\n",
      "__________________________________________________________________________________________________\n",
      "Layer (type)                    Output Shape         Param #     Connected to                     \n",
      "==================================================================================================\n",
      "tmp_input (InputLayer)          [(None, 32, 32, 3)]  0                                            \n",
      "__________________________________________________________________________________________________\n",
      "conv_block (conv_block)         ((None, 16, 16, 64), 38976       tmp_input[0][0]                  \n",
      "__________________________________________________________________________________________________\n",
      "conv_block_1 (conv_block)       ((None, 8, 8, 128),  221952      conv_block[0][0]                 \n",
      "__________________________________________________________________________________________________\n",
      "conv_block_2 (conv_block)       ((None, 4, 4, 256),  886272      conv_block_1[0][0]               \n",
      "__________________________________________________________________________________________________\n",
      "conv_block_3 (conv_block)       ((None, 2, 2, 512),  3542016     conv_block_2[0][0]               \n",
      "__________________________________________________________________________________________________\n",
      "conv_block_4 (conv_block)       ((None, 2, 2, 1024), 14161920    conv_block_3[0][0]               \n",
      "__________________________________________________________________________________________________\n",
      "dropout (Dropout)               (None, 2, 2, 1024)   0           conv_block_4[0][0]               \n",
      "__________________________________________________________________________________________________\n",
      "upconv_block (upconv_block)     (None, 4, 4, 512)    6818816     dropout[0][0]                    \n",
      "                                                                 conv_block_3[0][1]               \n",
      "__________________________________________________________________________________________________\n",
      "upconv_block_1 (upconv_block)   (None, 8, 8, 256)    1705472     upconv_block[0][0]               \n",
      "                                                                 conv_block_2[0][1]               \n",
      "__________________________________________________________________________________________________\n",
      "upconv_block_2 (upconv_block)   (None, 16, 16, 128)  426752      upconv_block_1[0][0]             \n",
      "                                                                 conv_block_1[0][1]               \n",
      "__________________________________________________________________________________________________\n",
      "upconv_block_3 (upconv_block)   (None, 32, 32, 64)   106880      upconv_block_2[0][0]             \n",
      "                                                                 conv_block[0][1]                 \n",
      "__________________________________________________________________________________________________\n",
      "conv2d_18 (Conv2D)              (None, 32, 32, 3)    195         upconv_block_3[0][0]             \n",
      "==================================================================================================\n",
      "Total params: 27,909,251\n",
      "Trainable params: 27,909,251\n",
      "Non-trainable params: 0\n",
      "__________________________________________________________________________________________________\n"
     ]
    }
   ],
   "source": [
    "generator = Generator(size=(SIZE,SIZE,3),depth=DEPTH)\n",
    "generator.my_summary((SIZE,SIZE,3))"
   ]
  },
  {
   "cell_type": "markdown",
   "metadata": {},
   "source": [
    "## Discriminator\n",
    "latent lossの計算に最後の畳み込み層の出力も必要になるので、シグモイド出力と特徴マップ出力のペアを出力するモデルとした。"
   ]
  },
  {
   "cell_type": "code",
   "execution_count": 7,
   "metadata": {},
   "outputs": [],
   "source": [
    "class D_conv_block(tf.keras.layers.Layer):\n",
    "    def __init__(self, kernel_size=(3,3), n_channels=32, norm=True):\n",
    "        super(D_conv_block,self).__init__()\n",
    "        self.n_channels = n_channels\n",
    "        self.kernel_size = kernel_size\n",
    "        self.norm = norm\n",
    "        \n",
    "        self.layer1 = layers.Conv2D(n_channels, kernel_size, padding='same')\n",
    "        self.norm1 = InstanceNormalization()\n",
    "        self.layer2 = layers.Conv2D(n_channels, kernel_size, strides=2, padding='same')\n",
    "        self.norm2 = InstanceNormalization()\n",
    "        \n",
    "    def call(self,inputs):\n",
    "        x = self.layer1(inputs)\n",
    "        x = self.norm1(x)\n",
    "        x = layers.LeakyReLU(0.2)(x)\n",
    "        x = self.layer2(x)\n",
    "        \n",
    "        if self.norm == True:\n",
    "            x = self.norm2(x)\n",
    "            \n",
    "        x = layers.LeakyReLU(0.2)(x)\n",
    "\n",
    "        return x"
   ]
  },
  {
   "cell_type": "code",
   "execution_count": 8,
   "metadata": {},
   "outputs": [],
   "source": [
    "class Discriminator(tf.keras.Model):\n",
    "    def __init__(self, size, kernel_size=(3,3), n_channels=32):\n",
    "        super(Discriminator, self).__init__()\n",
    "        self.size = size\n",
    "        \n",
    "        self.layer1 = D_conv_block(n_channels=64)\n",
    "        self.layer2 = D_conv_block(n_channels=128)\n",
    "        self.layer3 = D_conv_block(n_channels=256)\n",
    "        self.layer4 = D_conv_block(n_channels=512)\n",
    "        self.layer5 = D_conv_block(n_channels=100,norm=False)\n",
    "        self.final = layers.Dense(1)\n",
    "        \n",
    "    def call(self,inputs):\n",
    "        x = self.layer1(inputs)\n",
    "        x = self.layer2(x)\n",
    "        x = self.layer3(x)\n",
    "        x = self.layer4(x)\n",
    "        f = self.layer5(x)\n",
    "        f = layers.Flatten()(f)\n",
    "        x = self.final(f)\n",
    "        x = layers.Activation('sigmoid')(x)\n",
    "        \n",
    "        return [f, x]\n",
    "    \n",
    "    #summaryを表示させるための関数\n",
    "    def my_summary(self, input_shape=(256,256,1)):\n",
    "        tmp_x = Input(shape=input_shape, name='tmp_input')\n",
    "        tmp_m = Model(inputs=tmp_x, outputs=self.call(tmp_x), name='tmp_model')\n",
    "        tmp_m.summary()\n",
    "        del tmp_x, tmp_m"
   ]
  },
  {
   "cell_type": "code",
   "execution_count": 9,
   "metadata": {
    "colab": {
     "base_uri": "https://localhost:8080/"
    },
    "id": "WH03Wf_NBxBG",
    "outputId": "2953b43a-5d05-404b-a14b-5fb1694cb66d"
   },
   "outputs": [
    {
     "name": "stdout",
     "output_type": "stream",
     "text": [
      "Model: \"tmp_model\"\n",
      "_________________________________________________________________\n",
      "Layer (type)                 Output Shape              Param #   \n",
      "=================================================================\n",
      "tmp_input (InputLayer)       [(None, 32, 32, 3)]       0         \n",
      "_________________________________________________________________\n",
      "d_conv_block (D_conv_block)  (None, 16, 16, 64)        38976     \n",
      "_________________________________________________________________\n",
      "d_conv_block_1 (D_conv_block (None, 8, 8, 128)         221952    \n",
      "_________________________________________________________________\n",
      "d_conv_block_2 (D_conv_block (None, 4, 4, 256)         886272    \n",
      "_________________________________________________________________\n",
      "d_conv_block_3 (D_conv_block (None, 2, 2, 512)         3542016   \n",
      "_________________________________________________________________\n",
      "d_conv_block_4 (D_conv_block (None, 1, 1, 100)         551200    \n",
      "_________________________________________________________________\n",
      "flatten (Flatten)            (None, 100)               0         \n",
      "_________________________________________________________________\n",
      "dense (Dense)                (None, 1)                 101       \n",
      "_________________________________________________________________\n",
      "activation (Activation)      (None, 1)                 0         \n",
      "=================================================================\n",
      "Total params: 5,240,517\n",
      "Trainable params: 5,240,517\n",
      "Non-trainable params: 0\n",
      "_________________________________________________________________\n"
     ]
    }
   ],
   "source": [
    "discriminator = Discriminator(size=(SIZE,SIZE,3))\n",
    "discriminator.my_summary((SIZE,SIZE,3))"
   ]
  },
  {
   "cell_type": "markdown",
   "metadata": {
    "id": "ckNB6i3kMnP-"
   },
   "source": [
    "あとで必要になるので、latent lossに使う特徴量の次元を取得しておく："
   ]
  },
  {
   "cell_type": "code",
   "execution_count": 10,
   "metadata": {
    "id": "CGEtQ1lRLQO8"
   },
   "outputs": [],
   "source": [
    "#latent_dim = discriminator.output[0].shape[1]\n",
    "latent_dim = 100"
   ]
  },
  {
   "cell_type": "code",
   "execution_count": 11,
   "metadata": {},
   "outputs": [],
   "source": [
    "optimizer = tf.keras.optimizers.Adam(lr=0.002, beta_1=0.5, beta_2=0.999)"
   ]
  },
  {
   "cell_type": "markdown",
   "metadata": {
    "id": "7i1eumyTM7wl"
   },
   "source": [
    "# 2. 学習の準備\n",
    "\n",
    "今回のモデルは色々lossがあるので、trainingに使うモデルを工夫しておく。この辺りが実装で、工夫や頭を使う必要がある部分。このような様々な具体例を通じて、柔軟な実装の腕を鍛えてゆくこと。\n",
    "\n",
    "では先ほど作った`generator`と`discrimiator`を使って、次のモデルを作ります："
   ]
  },
  {
   "cell_type": "code",
   "execution_count": 12,
   "metadata": {},
   "outputs": [],
   "source": [
    "# discriminatorを学習させるためのモデル\n",
    "def build_discriminator():\n",
    "    D_in0 = layers.Input((SIZE, SIZE, 3)) # real画像1\n",
    "    D_in1 = layers.Input((SIZE, SIZE, 3)) # real画像2\n",
    "    D_in2 = layers.Input((SIZE, SIZE, 3)) # real画像1から作ったfake画像\n",
    "\n",
    "    _, D_out0= discriminator(D_in0) # real画像1の真偽判定\n",
    "    f_1, _= discriminator(D_in1) # real画像2のlatent\n",
    "    f_2, D_out2= discriminator(D_in2) # fake画像のlatentと真偽判定\n",
    "    f_sub = layers.Subtract()([f_1,f_2]) # real画像2のlatent - fake画像のlatent。Dのlatent loss計算に使う\n",
    "\n",
    "    # 出力は real画像1の真偽判定、real画像2の真偽判定、(real画像2のlatent - fake画像のlatent)\n",
    "    gan_D = Model(inputs=[D_in0, D_in1, D_in2], outputs=[D_out0, D_out2, f_sub])\n",
    "    \n",
    "    return gan_D\n",
    "\n",
    "gan_D = build_discriminator()"
   ]
  },
  {
   "cell_type": "code",
   "execution_count": 14,
   "metadata": {
    "id": "AUpVHEZBGd94"
   },
   "outputs": [],
   "source": [
    "# generatorを学習させるためのモデル\n",
    "def build_generator():\n",
    "    discriminator.trainable = False\n",
    "    \n",
    "    G_in = layers.Input((SIZE, SIZE, 3)) # real画像\n",
    "\n",
    "    x_hat = generator(G_in) # fake画像\n",
    "    f_hat, G_out = discriminator(x_hat) # fake画像のlatentと真偽判定\n",
    "    x_sub = layers.Subtract()([G_in,x_hat]) # real画像 - fake画像。contextual loss計算に使う\n",
    "\n",
    "    f, _ = discriminator(G_in) # real画像のlatent\n",
    "    f_G = layers.Subtract()([f_hat,f]) # real画像のlatent - fake画像のlatent。Gのlatent loss計算に使う\n",
    "    \n",
    "    # 出力は fake画像の真偽判定、(real画像 - fake画像)、(real画像のlatent - fake画像のlatent)\n",
    "    gan_G = Model(inputs=G_in, outputs=[G_out, x_sub, f_G])\n",
    "\n",
    "    return gan_G\n",
    "\n",
    "gan_G = build_generator()"
   ]
  },
  {
   "cell_type": "markdown",
   "metadata": {},
   "source": [
    "## loss関数の定義\n",
    " $L_{D}=L_{adv}+L_{lat}$ \\\n",
    " $L_{G}=L_{adv}+40L_{con}+L_{lat}$ \\\n",
    " $L_{lat}=(F(x)-F(\\hat{x}))^{2}$\n",
    " $+_{con}=|x-\\hat{x}|$"
   ]
  },
  {
   "cell_type": "code",
   "execution_count": 15,
   "metadata": {},
   "outputs": [],
   "source": [
    "def discriminator_loss_function(t,pred):\n",
    "    #loss1,loss2はL_advの計算\n",
    "    #loss3 =latent lossにはy_true=0を与えてmseを計算すれば (real画像2のlatent - fake画像のlatent)**2 となる。\n",
    "    loss1 = tf.reduce_mean(tf.keras.losses.binary_crossentropy(t[0], pred[0]))\n",
    "    loss2 = tf.reduce_mean(tf.keras.losses.binary_crossentropy(t[1], pred[1]))\n",
    "    loss3 = tf.reduce_mean(tf.keras.losses.MSE(t[2], pred[2]))\n",
    "    \n",
    "    D_loss = loss1+loss2+loss3\n",
    "    \n",
    "    return [D_loss, loss1, loss2, loss3]\n",
    "\n",
    "def generator_loss_function(t, pred):\n",
    "    # 出力は fake画像の真偽判定、(real画像 - fake画像)、(real画像のlatent - fake画像のlatent)\n",
    "    # contextual lossにはy_true=0を与えてmaeを計算すれば |real画像 - fake画像| となる。\n",
    "    loss1 = tf.reduce_mean(tf.keras.losses.binary_crossentropy(t[0], pred[0]))\n",
    "    loss2 = tf.reduce_mean(tf.keras.losses.MAE(t[1], pred[1]))\n",
    "    loss3 = tf.reduce_mean(tf.keras.losses.MSE(t[2], pred[2]))\n",
    "    \n",
    "    G_loss = loss1 * 1 + loss2 * 40 + loss3 * 1\n",
    "    \n",
    "    return [G_loss, loss1, loss2, loss3]"
   ]
  },
  {
   "cell_type": "markdown",
   "metadata": {},
   "source": [
    "## tf.GradientTapeの設定"
   ]
  },
  {
   "cell_type": "code",
   "execution_count": 16,
   "metadata": {},
   "outputs": [],
   "source": [
    "@tf.function\n",
    "def discriminator_train_step(x, t):\n",
    "    with tf.GradientTape() as tape:\n",
    "        D_pred = gan_D(x, training=True)\n",
    "        D_loss = discriminator_loss_function(t, D_pred)\n",
    "    gradients = tape.gradient(D_loss[0], gan_D.trainable_variables)\n",
    "    optimizer.apply_gradients(zip(gradients, gan_D.trainable_variables))\n",
    "    \n",
    "    return D_loss\n",
    "\n",
    "@tf.function\n",
    "def generator_train_step(x, t):\n",
    "    with tf.GradientTape() as tape:\n",
    "        G_pred = gan_G(x)\n",
    "        G_loss = generator_loss_function(t, G_pred)\n",
    "    \n",
    "    gradients = tape.gradient(G_loss[0], gan_G.trainable_variables)\n",
    "    optimizer.apply_gradients(zip(gradients, gan_G.trainable_variables))\n",
    "    \n",
    "    return G_loss"
   ]
  },
  {
   "cell_type": "markdown",
   "metadata": {
    "id": "V4BNTEoRPKjz"
   },
   "source": [
    "# 3. 学習\n",
    "\n",
    "まずは、CIFAR10の訓練データから0番目の飛行機クラスを除いたものを正常訓練データ`x_train`とする。\n",
    "\n",
    "CIFAR10の訓練データの飛行機画像と、テストデータの飛行機画像を合わせてテスト用の異常画像`x_test_anom`とする。また、テストデータの飛行機画像以外をテスト用の正常画像`x_test_normal`とする。\n",
    "\n",
    "\n",
    "<b>ここでは一気にテストデータを使ったが、本当は検証データを用意して正しくやること！</b>"
   ]
  },
  {
   "cell_type": "code",
   "execution_count": 17,
   "metadata": {
    "id": "KZi9xvSBM8fE"
   },
   "outputs": [],
   "source": [
    "from tensorflow.keras.datasets import cifar10\n",
    "from tensorflow.keras.utils import to_categorical\n",
    "\n",
    "(x_train,y_train), (x_test,y_test)=cifar10.load_data()\n",
    "\n",
    "anom_class = 0\n",
    "\n",
    "x_train = x_train.astype('float32')/127.5 - 1\n",
    "x_test = x_test.astype('float32')/127.5 - 1\n",
    "\n",
    "x_test_anom = np.concatenate([x_train[np.squeeze(y_train)==anom_class], x_test[np.squeeze(y_test)==anom_class]], axis=0)\n",
    "x_train = x_train[np.squeeze(y_train)!=anom_class]\n",
    "x_test_normal = x_test[np.squeeze(y_test)!=anom_class]"
   ]
  },
  {
   "cell_type": "code",
   "execution_count": 18,
   "metadata": {
    "colab": {
     "base_uri": "https://localhost:8080/",
     "height": 283
    },
    "id": "lUY8014kNO9m",
    "outputId": "17427cb7-e61c-4a23-b3ae-711a9447ecc1"
   },
   "outputs": [
    {
     "data": {
      "text/plain": [
       "<matplotlib.image.AxesImage at 0x7f0060767a90>"
      ]
     },
     "execution_count": 18,
     "metadata": {},
     "output_type": "execute_result"
    },
    {
     "data": {
      "image/png": "[encoded data removed]",
      "text/plain": [
       "<Figure size 432x288 with 1 Axes>"
      ]
     },
     "metadata": {
      "needs_background": "light"
     },
     "output_type": "display_data"
    }
   ],
   "source": [
    "plt.imshow((x_train[0]+1)/2)"
   ]
  },
  {
   "cell_type": "code",
   "execution_count": 19,
   "metadata": {
    "colab": {
     "base_uri": "https://localhost:8080/",
     "height": 283
    },
    "id": "reIHovdmJ-yq",
    "outputId": "8f503588-a627-47bf-c225-bc96d4574536"
   },
   "outputs": [
    {
     "data": {
      "text/plain": [
       "<matplotlib.image.AxesImage at 0x7f006065acd0>"
      ]
     },
     "execution_count": 19,
     "metadata": {},
     "output_type": "execute_result"
    },
    {
     "data": {
      "image/png": "[encoded data removed]",
      "text/plain": [
       "<Figure size 432x288 with 1 Axes>"
      ]
     },
     "metadata": {
      "needs_background": "light"
     },
     "output_type": "display_data"
    }
   ],
   "source": [
    "plt.imshow((x_test_normal[0]+1)/2)"
   ]
  },
  {
   "cell_type": "code",
   "execution_count": 20,
   "metadata": {},
   "outputs": [
    {
     "data": {
      "text/plain": [
       "(45000, 32, 32, 3)"
      ]
     },
     "execution_count": 20,
     "metadata": {},
     "output_type": "execute_result"
    }
   ],
   "source": [
    "x_train.shape"
   ]
  },
  {
   "cell_type": "markdown",
   "metadata": {
    "id": "07zPCLK_P87u"
   },
   "source": [
    "いつも通り訓練関数を作っておく\n",
    "x_train.shape = (45000,32,32,3)\n",
    "n_train = 45000\n",
    "n_batch =128\n",
    "y_real, y_fake (351)\n",
    "y_dummy.shape(351, 100)\n",
    "xhat_dummy.shape = (128,32,32,3)"
   ]
  },
  {
   "cell_type": "code",
   "execution_count": 21,
   "metadata": {
    "id": "C8z0ckzEDaes"
   },
   "outputs": [],
   "source": [
    "d_history = []\n",
    "g_history = []\n",
    "\n",
    "def train(x_train, n_epochs, n_batch, x_val=x_test_normal):\n",
    "    n_train = x_train.shape[0]\n",
    "    bat_per_epoch = int(x_train.shape[0] / n_batch)\n",
    "    y_real = np.ones((n_batch,1))\n",
    "    y_fake = np.zeros((n_batch,1))\n",
    "    y_dummy = np.zeros((n_batch, latent_dim)) # latent lossの計算にわたすy_true=0\n",
    "    xhat_dummy = np.zeros((n_batch, )+ x_train.shape[1:]) # contextual lossの計算にわたすy_true=0\n",
    "\n",
    "    for i in range(n_epochs):    \n",
    "        for j in range(bat_per_epoch):\n",
    "            #x_batch_0.shape, xhat_batch, x_batch=(32,32,32,3)\n",
    "            #y_real,y_fake=(32,1) y_dummy=(32,100)\n",
    "            idxes = np.random.choice(list(range(n_train)), n_batch)\n",
    "            x_batch_0 = x_train[idxes]\n",
    "            \n",
    "            idxes = np.random.choice(list(range(n_train)), n_batch)\n",
    "            x_batch = x_train[idxes]\n",
    "            xhat_batch = generator.predict(x_batch)\n",
    "            \n",
    "            d_loss = discriminator_train_step([x_batch_0, x_batch, xhat_batch], [y_real, y_fake, y_dummy])\n",
    "            d_history.append(d_loss)\n",
    "            \n",
    "            #xhat_dummy=(32,32,32,3)\n",
    "            idxes = np.random.choice(list(range(n_train)), n_batch)\n",
    "            x_batch = x_train[idxes]\n",
    "            g_loss = generator_train_step(x_batch, [y_real, xhat_dummy, y_dummy])\n",
    "            g_history.append(g_loss)\n",
    "\n",
    "            if j  == 0:\n",
    "                print('epoch', i)\n",
    "                print('D', d_loss[0], ', G', g_loss[0])\n",
    "                print('D adv loss real', d_loss[1], ', D adv loss fake',  d_loss[2], ', D latent loss', d_loss[3])\n",
    "                print('G adv loss', g_loss[1], 'G contextual loss', g_loss[2], 'G latent loss', g_loss[3])\n",
    "                # 複数枚表示するようにした方が良い\n",
    "                xhat_val = generator.predict(x_val[:1])\n",
    "                plt.imshow((xhat_val[0,:,:,:]+1)/2)\n",
    "                plt.axis(\"off\")\n",
    "                plt.show()\n",
    "            # 5エポック以降は重みを保存\n",
    "            if i>4:\n",
    "                gan_G.save_weights(DATASET_PATH + '/skip_GANomaly_%sepochs.h5' % i)"
   ]
  },
  {
   "cell_type": "markdown",
   "metadata": {
    "id": "55Kgxi8xTZVg"
   },
   "source": [
    "では学習です。本当はちゃんと`x_val`をつくって最後の引数に渡してください。\n",
    "\n",
    "原論文に従い、15エポック学習させる："
   ]
  },
  {
   "cell_type": "code",
   "execution_count": 22,
   "metadata": {
    "colab": {
     "base_uri": "https://localhost:8080/",
     "height": 1000
    },
    "id": "xEOuklZ-NdsQ",
    "outputId": "656ee5a8-6f0e-438b-9e60-36bee64272d5"
   },
   "outputs": [
    {
     "name": "stdout",
     "output_type": "stream",
     "text": [
      "epoch 0\n",
      "D tf.Tensor(1.5102593, shape=(), dtype=float32) , G tf.Tensor(28.971874, shape=(), dtype=float32)\n",
      "D adv loss real tf.Tensor(0.8285341, shape=(), dtype=float32) , D adv loss fake tf.Tensor(0.5667517, shape=(), dtype=float32) , D latent loss tf.Tensor(0.114973456, shape=(), dtype=float32)\n",
      "G adv loss tf.Tensor(0.8273921, shape=(), dtype=float32) G contextual loss tf.Tensor(0.7004458, shape=(), dtype=float32) G latent loss tf.Tensor(0.12665191, shape=(), dtype=float32)\n"
     ]
    },
    {
     "data": {
      "image/png": "[encoded data removed]",
      "text/plain": [
       "<Figure size 432x288 with 1 Axes>"
      ]
     },
     "metadata": {
      "needs_background": "light"
     },
     "output_type": "display_data"
    },
    {
     "name": "stdout",
     "output_type": "stream",
     "text": [
      "epoch 1\n",
      "D tf.Tensor(1.9645501, shape=(), dtype=float32) , G tf.Tensor(3.6805677, shape=(), dtype=float32)\n",
      "D adv loss real tf.Tensor(0.7914851, shape=(), dtype=float32) , D adv loss fake tf.Tensor(1.1195676, shape=(), dtype=float32) , D latent loss tf.Tensor(0.05349739, shape=(), dtype=float32)\n",
      "G adv loss tf.Tensor(0.4105145, shape=(), dtype=float32) G contextual loss tf.Tensor(0.0804231, shape=(), dtype=float32) G latent loss tf.Tensor(0.053128973, shape=(), dtype=float32)\n"
     ]
    },
    {
     "data": {
      "image/png": "[encoded data removed]",
      "text/plain": [
       "<Figure size 432x288 with 1 Axes>"
      ]
     },
     "metadata": {
      "needs_background": "light"
     },
     "output_type": "display_data"
    },
    {
     "name": "stdout",
     "output_type": "stream",
     "text": [
      "epoch 2\n",
      "D tf.Tensor(2.093621, shape=(), dtype=float32) , G tf.Tensor(3.2380576, shape=(), dtype=float32)\n",
      "D adv loss real tf.Tensor(0.8210233, shape=(), dtype=float32) , D adv loss fake tf.Tensor(1.2148335, shape=(), dtype=float32) , D latent loss tf.Tensor(0.057764255, shape=(), dtype=float32)\n",
      "G adv loss tf.Tensor(0.38757235, shape=(), dtype=float32) G contextual loss tf.Tensor(0.07003828, shape=(), dtype=float32) G latent loss tf.Tensor(0.048954062, shape=(), dtype=float32)\n"
     ]
    },
    {
     "data": {
      "image/png": "[encoded data removed]",
      "text/plain": [
       "<Figure size 432x288 with 1 Axes>"
      ]
     },
     "metadata": {
      "needs_background": "light"
     },
     "output_type": "display_data"
    },
    {
     "name": "stdout",
     "output_type": "stream",
     "text": [
      "epoch 3\n",
      "D tf.Tensor(1.9834783, shape=(), dtype=float32) , G tf.Tensor(2.7622504, shape=(), dtype=float32)\n",
      "D adv loss real tf.Tensor(0.89174575, shape=(), dtype=float32) , D adv loss fake tf.Tensor(1.047404, shape=(), dtype=float32) , D latent loss tf.Tensor(0.04432851, shape=(), dtype=float32)\n",
      "G adv loss tf.Tensor(0.4544675, shape=(), dtype=float32) G contextual loss tf.Tensor(0.05655565, shape=(), dtype=float32) G latent loss tf.Tensor(0.045556758, shape=(), dtype=float32)\n"
     ]
    },
    {
     "data": {
      "image/png": "[encoded data removed]",
      "text/plain": [
       "<Figure size 432x288 with 1 Axes>"
      ]
     },
     "metadata": {
      "needs_background": "light"
     },
     "output_type": "display_data"
    },
    {
     "name": "stdout",
     "output_type": "stream",
     "text": [
      "epoch 4\n",
      "D tf.Tensor(1.9747612, shape=(), dtype=float32) , G tf.Tensor(2.313824, shape=(), dtype=float32)\n",
      "D adv loss real tf.Tensor(0.8660494, shape=(), dtype=float32) , D adv loss fake tf.Tensor(1.0613699, shape=(), dtype=float32) , D latent loss tf.Tensor(0.047341995, shape=(), dtype=float32)\n",
      "G adv loss tf.Tensor(0.45070404, shape=(), dtype=float32) G contextual loss tf.Tensor(0.04559564, shape=(), dtype=float32) G latent loss tf.Tensor(0.039294258, shape=(), dtype=float32)\n"
     ]
    },
    {
     "data": {
      "image/png": "[encoded data removed]",
      "text/plain": [
       "<Figure size 432x288 with 1 Axes>"
      ]
     },
     "metadata": {
      "needs_background": "light"
     },
     "output_type": "display_data"
    },
    {
     "name": "stdout",
     "output_type": "stream",
     "text": [
      "epoch 5\n",
      "D tf.Tensor(2.0178177, shape=(), dtype=float32) , G tf.Tensor(2.4840424, shape=(), dtype=float32)\n",
      "D adv loss real tf.Tensor(0.86187625, shape=(), dtype=float32) , D adv loss fake tf.Tensor(1.1121907, shape=(), dtype=float32) , D latent loss tf.Tensor(0.04375068, shape=(), dtype=float32)\n",
      "G adv loss tf.Tensor(0.46810406, shape=(), dtype=float32) G contextual loss tf.Tensor(0.04939231, shape=(), dtype=float32) G latent loss tf.Tensor(0.040245853, shape=(), dtype=float32)\n"
     ]
    },
    {
     "data": {
      "image/png": "[encoded data removed]",
      "text/plain": [
       "<Figure size 432x288 with 1 Axes>"
      ]
     },
     "metadata": {
      "needs_background": "light"
     },
     "output_type": "display_data"
    },
    {
     "name": "stdout",
     "output_type": "stream",
     "text": [
      "epoch 6\n",
      "D tf.Tensor(1.9224188, shape=(), dtype=float32) , G tf.Tensor(2.3092136, shape=(), dtype=float32)\n",
      "D adv loss real tf.Tensor(0.8453978, shape=(), dtype=float32) , D adv loss fake tf.Tensor(1.0359242, shape=(), dtype=float32) , D latent loss tf.Tensor(0.041096885, shape=(), dtype=float32)\n",
      "G adv loss tf.Tensor(0.4677324, shape=(), dtype=float32) G contextual loss tf.Tensor(0.045109667, shape=(), dtype=float32) G latent loss tf.Tensor(0.03709463, shape=(), dtype=float32)\n"
     ]
    },
    {
     "data": {
      "image/png": "[encoded data removed]",
      "text/plain": [
       "<Figure size 432x288 with 1 Axes>"
      ]
     },
     "metadata": {
      "needs_background": "light"
     },
     "output_type": "display_data"
    },
    {
     "name": "stdout",
     "output_type": "stream",
     "text": [
      "epoch 7\n",
      "D tf.Tensor(2.0000644, shape=(), dtype=float32) , G tf.Tensor(2.424838, shape=(), dtype=float32)\n",
      "D adv loss real tf.Tensor(0.8619743, shape=(), dtype=float32) , D adv loss fake tf.Tensor(1.0949583, shape=(), dtype=float32) , D latent loss tf.Tensor(0.043131802, shape=(), dtype=float32)\n",
      "G adv loss tf.Tensor(0.46350583, shape=(), dtype=float32) G contextual loss tf.Tensor(0.04802467, shape=(), dtype=float32) G latent loss tf.Tensor(0.0403454, shape=(), dtype=float32)\n"
     ]
    },
    {
     "data": {
      "image/png": "[encoded data removed]",
      "text/plain": [
       "<Figure size 432x288 with 1 Axes>"
      ]
     },
     "metadata": {
      "needs_background": "light"
     },
     "output_type": "display_data"
    },
    {
     "name": "stdout",
     "output_type": "stream",
     "text": [
      "epoch 8\n",
      "D tf.Tensor(1.9910537, shape=(), dtype=float32) , G tf.Tensor(2.1814432, shape=(), dtype=float32)\n",
      "D adv loss real tf.Tensor(0.8312123, shape=(), dtype=float32) , D adv loss fake tf.Tensor(1.1120625, shape=(), dtype=float32) , D latent loss tf.Tensor(0.04777893, shape=(), dtype=float32)\n",
      "G adv loss tf.Tensor(0.46094146, shape=(), dtype=float32) G contextual loss tf.Tensor(0.04175966, shape=(), dtype=float32) G latent loss tf.Tensor(0.050115302, shape=(), dtype=float32)\n"
     ]
    },
    {
     "data": {
      "image/png": "[encoded data removed]",
      "text/plain": [
       "<Figure size 432x288 with 1 Axes>"
      ]
     },
     "metadata": {
      "needs_background": "light"
     },
     "output_type": "display_data"
    },
    {
     "name": "stdout",
     "output_type": "stream",
     "text": [
      "epoch 10\n",
      "D tf.Tensor(2.0244658, shape=(), dtype=float32) , G tf.Tensor(2.1018968, shape=(), dtype=float32)\n",
      "D adv loss real tf.Tensor(0.8479394, shape=(), dtype=float32) , D adv loss fake tf.Tensor(1.1269596, shape=(), dtype=float32) , D latent loss tf.Tensor(0.04956698, shape=(), dtype=float32)\n",
      "G adv loss tf.Tensor(0.37742323, shape=(), dtype=float32) G contextual loss tf.Tensor(0.041924246, shape=(), dtype=float32) G latent loss tf.Tensor(0.047503706, shape=(), dtype=float32)\n"
     ]
    },
    {
     "data": {
      "image/png": "[encoded data removed]",
      "text/plain": [
       "<Figure size 432x288 with 1 Axes>"
      ]
     },
     "metadata": {
      "needs_background": "light"
     },
     "output_type": "display_data"
    },
    {
     "name": "stdout",
     "output_type": "stream",
     "text": [
      "epoch 11\n",
      "D tf.Tensor(1.9976836, shape=(), dtype=float32) , G tf.Tensor(1.9599072, shape=(), dtype=float32)\n",
      "D adv loss real tf.Tensor(0.86204875, shape=(), dtype=float32) , D adv loss fake tf.Tensor(1.0902747, shape=(), dtype=float32) , D latent loss tf.Tensor(0.04536023, shape=(), dtype=float32)\n",
      "G adv loss tf.Tensor(0.46788362, shape=(), dtype=float32) G contextual loss tf.Tensor(0.03635522, shape=(), dtype=float32) G latent loss tf.Tensor(0.037814718, shape=(), dtype=float32)\n"
     ]
    },
    {
     "data": {
      "image/png": "[encoded data removed]",
      "text/plain": [
       "<Figure size 432x288 with 1 Axes>"
      ]
     },
     "metadata": {
      "needs_background": "light"
     },
     "output_type": "display_data"
    },
    {
     "name": "stdout",
     "output_type": "stream",
     "text": [
      "epoch 12\n",
      "D tf.Tensor(2.0494504, shape=(), dtype=float32) , G tf.Tensor(2.0207648, shape=(), dtype=float32)\n",
      "D adv loss real tf.Tensor(0.9053903, shape=(), dtype=float32) , D adv loss fake tf.Tensor(1.0947833, shape=(), dtype=float32) , D latent loss tf.Tensor(0.04927674, shape=(), dtype=float32)\n",
      "G adv loss tf.Tensor(0.43210655, shape=(), dtype=float32) G contextual loss tf.Tensor(0.03853979, shape=(), dtype=float32) G latent loss tf.Tensor(0.047066726, shape=(), dtype=float32)\n"
     ]
    },
    {
     "data": {
      "image/png": "[encoded data removed]",
      "text/plain": [
       "<Figure size 432x288 with 1 Axes>"
      ]
     },
     "metadata": {
      "needs_background": "light"
     },
     "output_type": "display_data"
    },
    {
     "name": "stdout",
     "output_type": "stream",
     "text": [
      "epoch 13\n",
      "D tf.Tensor(1.9069332, shape=(), dtype=float32) , G tf.Tensor(2.2567, shape=(), dtype=float32)\n",
      "D adv loss real tf.Tensor(0.8574076, shape=(), dtype=float32) , D adv loss fake tf.Tensor(1.01145, shape=(), dtype=float32) , D latent loss tf.Tensor(0.038075596, shape=(), dtype=float32)\n",
      "G adv loss tf.Tensor(0.4393409, shape=(), dtype=float32) G contextual loss tf.Tensor(0.044520915, shape=(), dtype=float32) G latent loss tf.Tensor(0.036522575, shape=(), dtype=float32)\n"
     ]
    },
    {
     "data": {
      "image/png": "[encoded data removed]",
      "text/plain": [
       "<Figure size 432x288 with 1 Axes>"
      ]
     },
     "metadata": {
      "needs_background": "light"
     },
     "output_type": "display_data"
    },
    {
     "name": "stdout",
     "output_type": "stream",
     "text": [
      "epoch 14\n",
      "D tf.Tensor(2.0517209, shape=(), dtype=float32) , G tf.Tensor(2.1867032, shape=(), dtype=float32)\n",
      "D adv loss real tf.Tensor(0.8456653, shape=(), dtype=float32) , D adv loss fake tf.Tensor(1.1594629, shape=(), dtype=float32) , D latent loss tf.Tensor(0.04659266, shape=(), dtype=float32)\n",
      "G adv loss tf.Tensor(0.4058866, shape=(), dtype=float32) G contextual loss tf.Tensor(0.043180585, shape=(), dtype=float32) G latent loss tf.Tensor(0.053593133, shape=(), dtype=float32)\n"
     ]
    },
    {
     "data": {
      "image/png": "[encoded data removed]",
      "text/plain": [
       "<Figure size 432x288 with 1 Axes>"
      ]
     },
     "metadata": {
      "needs_background": "light"
     },
     "output_type": "display_data"
    },
    {
     "name": "stdout",
     "output_type": "stream",
     "text": [
      "epoch 15\n",
      "D tf.Tensor(1.9915118, shape=(), dtype=float32) , G tf.Tensor(1.8169677, shape=(), dtype=float32)\n",
      "D adv loss real tf.Tensor(0.82068354, shape=(), dtype=float32) , D adv loss fake tf.Tensor(1.1254423, shape=(), dtype=float32) , D latent loss tf.Tensor(0.045386054, shape=(), dtype=float32)\n",
      "G adv loss tf.Tensor(0.38370317, shape=(), dtype=float32) G contextual loss tf.Tensor(0.034751795, shape=(), dtype=float32) G latent loss tf.Tensor(0.04319267, shape=(), dtype=float32)\n"
     ]
    },
    {
     "data": {
      "image/png": "[encoded data removed]",
      "text/plain": [
       "<Figure size 432x288 with 1 Axes>"
      ]
     },
     "metadata": {
      "needs_background": "light"
     },
     "output_type": "display_data"
    }
   ],
   "source": [
    "train(x_train, n_epochs=16, n_batch=32, x_val=x_test_normal)"
   ]
  },
  {
   "cell_type": "markdown",
   "metadata": {
    "id": "foGAxJy2QTRk"
   },
   "source": [
    "学習曲線"
   ]
  },
  {
   "cell_type": "code",
   "execution_count": 23,
   "metadata": {
    "colab": {
     "base_uri": "https://localhost:8080/",
     "height": 513
    },
    "id": "0V51t3UpD8SL",
    "outputId": "dbb9977a-2ebd-4ca6-8352-0ec1776e709c"
   },
   "outputs": [
    {
     "data": {
      "image/png": "[encoded data removed]",
      "text/plain": [
       "<Figure size 432x288 with 1 Axes>"
      ]
     },
     "metadata": {
      "needs_background": "light"
     },
     "output_type": "display_data"
    },
    {
     "data": {
      "image/png": "[encoded data removed]",
      "text/plain": [
       "<Figure size 432x288 with 1 Axes>"
      ]
     },
     "metadata": {
      "needs_background": "light"
     },
     "output_type": "display_data"
    }
   ],
   "source": [
    "d_losses = np.array(d_history)[:,0]\n",
    "g_losses = np.array(g_history)[:,0]\n",
    "\n",
    "plt.plot(d_losses)\n",
    "plt.show()\n",
    "\n",
    "plt.plot(g_losses)\n",
    "plt.show()"
   ]
  },
  {
   "cell_type": "markdown",
   "metadata": {
    "id": "D2f2Td0fQVtz"
   },
   "source": [
    "# 4. 学習済みモデルの評価\n",
    "\n",
    "異常スコアを計算する関数を実装しておく："
   ]
  },
  {
   "cell_type": "code",
   "execution_count": 24,
   "metadata": {
    "id": "IXPSof3WBygO"
   },
   "outputs": [],
   "source": [
    "def anomaly_score(x_batch, pred_model=gan_G, lam=0.9):\n",
    "    _, x_subtruct, feat_subtruct = pred_model.predict(x_batch)\n",
    "    R = np.mean(np.abs(x_subtruct), axis=(1,2,3))\n",
    "    L = np.mean(feat_subtruct**2, axis=-1)\n",
    "    A = lam*R + (1-lam)*L\n",
    "    return A"
   ]
  },
  {
   "cell_type": "markdown",
   "metadata": {
    "id": "tZvYDE8zPHx4"
   },
   "source": [
    "早速、学習済みモデルをテストしてみよう。すぐさま過学習するので、エポック選択が重要だが、ここではsloppyにテストデータで見てしまおう（本当は検証データでエポック数を選ぶこと！! このように選んだ結果を論文に書いたら、これはモデル選択を介した典型的なスヌーピングです。）\n",
    "\n",
    "<b>6エポック</b>"
   ]
  },
  {
   "cell_type": "code",
   "execution_count": 25,
   "metadata": {},
   "outputs": [
    {
     "data": {
      "image/png": "[encoded data removed]",
      "text/plain": [
       "<Figure size 432x288 with 1 Axes>"
      ]
     },
     "metadata": {
      "needs_background": "light"
     },
     "output_type": "display_data"
    }
   ],
   "source": [
    "gan_G.load_weights(DATASET_PATH + '/skip_GANomaly_5epochs.h5')\n",
    "\n",
    "score_anom = anomaly_score(x_test_anom, pred_model=gan_G)\n",
    "score_norm = anomaly_score(x_test_normal, pred_model=gan_G)\n",
    "scores = np.concatenate([score_anom,score_norm], axis=0)\n",
    "\n",
    "score_min, score_max = np.min(scores), np.max(scores)\n",
    "\n",
    "score_anom = (score_anom - score_min)/(score_max- score_min)\n",
    "score_norm = (score_norm - score_min)/(score_max- score_min)\n",
    "\n",
    "plt.hist(score_norm, bins=50)\n",
    "plt.hist(score_anom, bins=50, alpha=0.8)\n",
    "plt.show()"
   ]
  },
  {
   "cell_type": "markdown",
   "metadata": {
    "id": "pe4DL9D4JqJq"
   },
   "source": [
    "<b>7エポック</b>"
   ]
  },
  {
   "cell_type": "code",
   "execution_count": 26,
   "metadata": {
    "id": "YpTXfSpOJqJr",
    "outputId": "4c5176d3-bfb0-4b95-941a-c8da74b62a51"
   },
   "outputs": [
    {
     "data": {
      "image/png": "[encoded data removed]",
      "text/plain": [
       "<Figure size 432x288 with 1 Axes>"
      ]
     },
     "metadata": {
      "needs_background": "light"
     },
     "output_type": "display_data"
    }
   ],
   "source": [
    "gan_G.load_weights(DATASET_PATH + '/skip_GANomaly_6epochs.h5')\n",
    "\n",
    "score_anom = anomaly_score(x_test_anom, pred_model=gan_G)\n",
    "score_norm = anomaly_score(x_test_normal, pred_model=gan_G)\n",
    "scores = np.concatenate([score_anom,score_norm], axis=0)\n",
    "\n",
    "score_min, score_max = np.min(scores), np.max(scores)\n",
    "\n",
    "score_anom = (score_anom - score_min)/(score_max- score_min)\n",
    "score_norm = (score_norm - score_min)/(score_max- score_min)\n",
    "\n",
    "plt.hist(score_norm, bins=50)\n",
    "plt.hist(score_anom, bins=50, alpha=0.8)\n",
    "plt.show()"
   ]
  },
  {
   "cell_type": "markdown",
   "metadata": {
    "id": "zQMxVjO1JqJs"
   },
   "source": [
    "<b>8エポック</b>"
   ]
  },
  {
   "cell_type": "code",
   "execution_count": 27,
   "metadata": {
    "id": "JyUsDtPqJqJt",
    "outputId": "7c0cbc74-6c25-4711-b634-1e7c542e8bfa"
   },
   "outputs": [
    {
     "data": {
      "image/png": "[encoded data removed]",
      "text/plain": [
       "<Figure size 432x288 with 1 Axes>"
      ]
     },
     "metadata": {
      "needs_background": "light"
     },
     "output_type": "display_data"
    }
   ],
   "source": [
    "gan_G.load_weights(DATASET_PATH + '/skip_GANomaly_7epochs.h5')\n",
    "\n",
    "score_anom = anomaly_score(x_test_anom, pred_model=gan_G)\n",
    "score_norm = anomaly_score(x_test_normal, pred_model=gan_G)\n",
    "scores = np.concatenate([score_anom,score_norm], axis=0)\n",
    "\n",
    "score_min, score_max = np.min(scores), np.max(scores)\n",
    "\n",
    "score_anom = (score_anom - score_min)/(score_max- score_min)\n",
    "score_norm = (score_norm - score_min)/(score_max- score_min)\n",
    "\n",
    "plt.hist(score_norm, bins=50)\n",
    "plt.hist(score_anom, bins=50, alpha=0.8)\n",
    "plt.show()"
   ]
  },
  {
   "cell_type": "markdown",
   "metadata": {
    "id": "7qHqOMNxJqJu"
   },
   "source": [
    "<b>9エポック</b>"
   ]
  },
  {
   "cell_type": "code",
   "execution_count": 28,
   "metadata": {
    "id": "358rW-VxJqJu",
    "outputId": "72b13dd5-d9fd-4b2d-c804-98eaadd3d760"
   },
   "outputs": [
    {
     "data": {
      "image/png": "[encoded data removed]",
      "text/plain": [
       "<Figure size 432x288 with 1 Axes>"
      ]
     },
     "metadata": {
      "needs_background": "light"
     },
     "output_type": "display_data"
    }
   ],
   "source": [
    "gan_G.load_weights(DATASET_PATH + '/skip_GANomaly_8epochs.h5')\n",
    "\n",
    "score_anom = anomaly_score(x_test_anom, pred_model=gan_G)\n",
    "score_norm = anomaly_score(x_test_normal, pred_model=gan_G)\n",
    "scores = np.concatenate([score_anom,score_norm], axis=0)\n",
    "\n",
    "score_min, score_max = np.min(scores), np.max(scores)\n",
    "\n",
    "score_anom = (score_anom - score_min)/(score_max- score_min)\n",
    "score_norm = (score_norm - score_min)/(score_max- score_min)\n",
    "\n",
    "plt.hist(score_norm, bins=50)\n",
    "plt.hist(score_anom, bins=50, alpha=0.8)\n",
    "plt.show()"
   ]
  },
  {
   "cell_type": "code",
   "execution_count": null,
   "metadata": {
    "id": "JzPzHE9zJqJv"
   },
   "outputs": [],
   "source": []
  },
  {
   "cell_type": "markdown",
   "metadata": {
    "id": "V6sd61_RKwnt"
   },
   "source": [
    "# 問題\n",
    "\n",
    "学習済みの重み（7エポック）を配布したので、このモデルに対して異常検知のAUCを測りましょう。\n",
    "\n",
    "また、y=0以外のクラスについても学習させ、異常カテゴリごとのAUCの違いを観察せよ（GANomalyなどの論文の結果と比べてみるとよい）。\n",
    "\n",
    "またこの実装が原実装の細部を再現している保証はないので、詳しく調べてこのコードを改善せよ（そして調査結果を私に教えてください…）。"
   ]
  },
  {
   "cell_type": "code",
   "execution_count": null,
   "metadata": {
    "id": "_JCcHiweLTbV"
   },
   "outputs": [],
   "source": []
  }
 ],
 "metadata": {
  "accelerator": "GPU",
  "colab": {
   "collapsed_sections": [],
   "name": "A_thousand_ball_drill20210324_Skip-GANomaly.ipynb",
   "provenance": []
  },
  "kernelspec": {
   "display_name": "Python 3",
   "language": "python",
   "name": "python3"
  },
  "language_info": {
   "codemirror_mode": {
    "name": "ipython",
    "version": 3
   },
   "file_extension": ".py",
   "mimetype": "text/x-python",
   "name": "python",
   "nbconvert_exporter": "python",
   "pygments_lexer": "ipython3",
   "version": "3.7.4"
  }
 },
 "nbformat": 4,
 "nbformat_minor": 4
}
