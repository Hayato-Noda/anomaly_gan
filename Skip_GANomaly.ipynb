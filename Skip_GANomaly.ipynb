{
 "cells": [
  {
   "cell_type": "markdown",
   "metadata": {
    "id": "AcAZzxB3FvGl"
   },
   "source": [
    "# <center>tf.KerasによるSkip-GANomaly</center>\n",
    "\n",
    "異常検知を実装して見ましょう。このコードを元にGANomalyなども簡単に実装できるので、性能を比較してみると良い。\n",
    "\n"
   ]
  },
  {
   "cell_type": "code",
   "execution_count": null,
   "metadata": {
    "id": "JP5zcWSMFsOB"
   },
   "outputs": [],
   "source": [
    "import numpy as np\n",
    "import matplotlib.pyplot as plt\n",
    "%matplotlib inline"
   ]
  },
  {
   "cell_type": "code",
   "execution_count": null,
   "metadata": {
    "colab": {
     "base_uri": "https://localhost:8080/"
    },
    "id": "lrJqVA5sXkgY",
    "outputId": "992bebdf-4e6e-4d71-b263-dd18d8d1f9b9"
   },
   "outputs": [
    {
     "name": "stdout",
     "output_type": "stream",
     "text": [
      "Mounted at /content/drive\n"
     ]
    }
   ],
   "source": [
    "from google.colab import drive\n",
    "drive.mount('/content/drive')"
   ]
  },
  {
   "cell_type": "markdown",
   "metadata": {
    "id": "hzgPUqamckik"
   },
   "source": [
    "今回使うモデルのサイズと深さを決めておきましょう："
   ]
  },
  {
   "cell_type": "code",
   "execution_count": null,
   "metadata": {
    "id": "-LIDYcaAajCe"
   },
   "outputs": [],
   "source": [
    "SIZE = 32#128\n",
    "DEPTH = 4\n",
    "DATASET_PATH = '/content/drive/My Drive/datasets'"
   ]
  },
  {
   "cell_type": "markdown",
   "metadata": {
    "id": "GWUE7RifOTGm"
   },
   "source": [
    "# 1. モデルの作成\n",
    "\n",
    "ジェネレータはUNetベースなので、もう勉強済みなので実装は簡単。ただ今回はインスタンス規格化を使うので、TensorFlow Addonsをインストールする。"
   ]
  },
  {
   "cell_type": "code",
   "execution_count": null,
   "metadata": {
    "colab": {
     "base_uri": "https://localhost:8080/"
    },
    "id": "UhdiNoUmNbbj",
    "outputId": "73c15696-df4d-4c1e-8d8c-6fef8976a5a0"
   },
   "outputs": [
    {
     "name": "stdout",
     "output_type": "stream",
     "text": [
      "Collecting tensorflow-addons\n",
      "\u001b[?25l  Downloading https://files.pythonhosted.org/packages/74/e3/56d2fe76f0bb7c88ed9b2a6a557e25e83e252aec08f13de34369cd850a0b/tensorflow_addons-0.12.1-cp37-cp37m-manylinux2010_x86_64.whl (703kB)\n",
      "\u001b[K     |████████████████████████████████| 706kB 19.0MB/s \n",
      "\u001b[?25hRequirement already satisfied: typeguard>=2.7 in /usr/local/lib/python3.7/dist-packages (from tensorflow-addons) (2.7.1)\n",
      "Installing collected packages: tensorflow-addons\n",
      "Successfully installed tensorflow-addons-0.12.1\n"
     ]
    }
   ],
   "source": [
    "!pip install tensorflow-addons"
   ]
  },
  {
   "cell_type": "markdown",
   "metadata": {
    "id": "HE1lbk9qMTrm"
   },
   "source": [
    "以下の部品は、ほぼ以前のUNetの実装の通り："
   ]
  },
  {
   "cell_type": "code",
   "execution_count": null,
   "metadata": {
    "id": "NlrxylMBF4Ry"
   },
   "outputs": [],
   "source": [
    "import tensorflow as tf\n",
    "from tensorflow.keras import layers\n",
    "from tensorflow.keras import Model\n",
    "\n",
    "from tensorflow_addons.layers import InstanceNormalization\n",
    "from tensorflow.keras.initializers import RandomNormal\n",
    "\n",
    "gamma_initializer = RandomNormal(mean=0.0, stddev=0.02)\n",
    "\n",
    "def conv_block(inputs, kernel_size=(3,3), n_channels=32):\n",
    "    \n",
    "    # Convを二回行う\n",
    "    x = layers.Conv2D(n_channels, kernel_size, padding='same')(inputs)\n",
    "    x = InstanceNormalization()(x)\n",
    "    x = layers.LeakyReLU(0.2)(x)\n",
    "    x = layers.Conv2D(n_channels, kernel_size, padding='same')(x)\n",
    "    x = InstanceNormalization()(x)\n",
    "    x = layers.LeakyReLU(0.2)(x)\n",
    "\n",
    "    return x\n",
    "\n",
    "def upconv_block(inputs, n_channels=32):\n",
    "    \n",
    "    # Upsamplingでサイズを倍にした後、2x2 Convでチャネル数を変更。TransposeConvを使うのでも良い\n",
    "    x = layers.UpSampling2D((2, 2))(inputs)\n",
    "    x = layers.Conv2D(n_channels, (2,2), padding='same')(x)\n",
    "    x = InstanceNormalization()(x)\n",
    "    x = layers.Activation('relu')(x)\n",
    "\n",
    "    return x"
   ]
  },
  {
   "cell_type": "code",
   "execution_count": null,
   "metadata": {
    "id": "pV5CGF3UnQYe"
   },
   "outputs": [],
   "source": [
    "def build_unet(size=(256,256,1), depth=4, n_classes=3):\n",
    "\n",
    "    channels = [64 * 2**i for i in range(depth+1)]\n",
    "\n",
    "    x_in = layers.Input(size)\n",
    "    x = x_in\n",
    "\n",
    "    downsampling_layers = []\n",
    "\n",
    "    for i, c in enumerate(channels[:-1]):\n",
    "        x_unpool = conv_block(inputs=x, n_channels=c)\n",
    "        if i == (depth-1):\n",
    "            x_unpool = layers.Dropout(0.5)(x_unpool)\n",
    "        downsampling_layers.append(x_unpool)\n",
    "        x = layers.MaxPooling2D((2,2))(x_unpool)\n",
    "\n",
    "    x = conv_block(inputs=x, n_channels=channels[-1])\n",
    "    x = layers.Dropout(0.5)(x)\n",
    "\n",
    "    channels = channels[:-1][::-1]\n",
    "    downsampling_layers = downsampling_layers[::-1]\n",
    "\n",
    "    for i, c in enumerate(channels):\n",
    "        x = upconv_block(inputs=x, n_channels=c)\n",
    "        x = layers.Concatenate()([x, downsampling_layers[i]])\n",
    "        #x = conv_block(inputs=x, n_channels=c)\n",
    "        x = layers.Conv2D(c, kernel_size=(3,3), padding='same')(x)\n",
    "        x = InstanceNormalization()(x)\n",
    "        x = layers.Activation('relu')(x)\n",
    "\n",
    "    x = layers.Conv2D(n_classes, (1,1), padding='same', activation='tanh')(x)\n",
    "\n",
    "    return Model(inputs=x_in, outputs=x)"
   ]
  },
  {
   "cell_type": "markdown",
   "metadata": {
    "id": "FQXVDdkMMZtL"
   },
   "source": [
    "DCGANと基本変わらないので、ディスクリミネータの実装も簡単："
   ]
  },
  {
   "cell_type": "code",
   "execution_count": null,
   "metadata": {
    "id": "9PDRRr3eABnd"
   },
   "outputs": [],
   "source": [
    "def conv_block_descriminator(inputs, kernel_size=(3,3), n_channels=32):\n",
    "    \n",
    "    # Convを二回行う\n",
    "    x = layers.Conv2D(n_channels, kernel_size, padding='same')(inputs)\n",
    "    x = InstanceNormalization()(x)\n",
    "    x = layers.LeakyReLU(0.2)(x)\n",
    "    x = layers.Conv2D(n_channels, kernel_size, strides=2, padding='same')(x)\n",
    "    x = InstanceNormalization()(x)\n",
    "    x = layers.LeakyReLU(0.2)(x)\n",
    "\n",
    "    return x\n",
    "\n",
    "def conv_block_descriminator_without_in(inputs, kernel_size=(3,3), n_channels=32):\n",
    "    \n",
    "    # Convを二回行う\n",
    "    x = layers.Conv2D(n_channels, kernel_size, padding='same')(inputs)\n",
    "    x = InstanceNormalization()(x)\n",
    "    x = layers.LeakyReLU(0.2)(x)\n",
    "    x = layers.Conv2D(n_channels, kernel_size, strides=2, padding='same')(x)\n",
    "    #x = InstanceNormalization()(x)\n",
    "    x = layers.LeakyReLU(0.2)(x)\n",
    "\n",
    "    return x\n",
    "\n",
    "def build_discriminator(size=(256,256,1)):\n",
    "\n",
    "    x_in = layers.Input(size)\n",
    "    x = x_in\n",
    "    \n",
    "    for i in range(4):\n",
    "        x = conv_block_descriminator(x, kernel_size=(3,3), n_channels=64*(2**i))\n",
    "\n",
    "    f = conv_block_descriminator_without_in(x, kernel_size=(3,3), n_channels=100)\n",
    "    f = layers.Flatten()(f)\n",
    "\n",
    "    x = layers.Dense(1)(f)\n",
    "    x = layers.Activation('sigmoid')(x)\n",
    "\n",
    "    return Model(inputs=x_in, outputs=[f, x])"
   ]
  },
  {
   "cell_type": "markdown",
   "metadata": {
    "id": "YzJHY5-sMp53"
   },
   "source": [
    "latent lossの計算に最後の畳み込み層の出力も必要になるので、シグモイド出力と特徴マップ出力のペアを出力するモデルとした。"
   ]
  },
  {
   "cell_type": "markdown",
   "metadata": {
    "id": "jcLKojZTMiDv"
   },
   "source": [
    "モデルのインスタンスを作っておく"
   ]
  },
  {
   "cell_type": "code",
   "execution_count": null,
   "metadata": {
    "colab": {
     "base_uri": "https://localhost:8080/"
    },
    "id": "WH03Wf_NBxBG",
    "outputId": "2953b43a-5d05-404b-a14b-5fb1694cb66d"
   },
   "outputs": [
    {
     "name": "stdout",
     "output_type": "stream",
     "text": [
      "Model: \"model_4\"\n",
      "__________________________________________________________________________________________________\n",
      "Layer (type)                    Output Shape         Param #     Connected to                     \n",
      "==================================================================================================\n",
      "input_7 (InputLayer)            [(None, 32, 32, 3)]  0                                            \n",
      "__________________________________________________________________________________________________\n",
      "conv2d_29 (Conv2D)              (None, 32, 32, 64)   1792        input_7[0][0]                    \n",
      "__________________________________________________________________________________________________\n",
      "instance_normalization_27 (Inst (None, 32, 32, 64)   128         conv2d_29[0][0]                  \n",
      "__________________________________________________________________________________________________\n",
      "leaky_re_lu_20 (LeakyReLU)      (None, 32, 32, 64)   0           instance_normalization_27[0][0]  \n",
      "__________________________________________________________________________________________________\n",
      "conv2d_30 (Conv2D)              (None, 32, 32, 64)   36928       leaky_re_lu_20[0][0]             \n",
      "__________________________________________________________________________________________________\n",
      "instance_normalization_28 (Inst (None, 32, 32, 64)   128         conv2d_30[0][0]                  \n",
      "__________________________________________________________________________________________________\n",
      "leaky_re_lu_21 (LeakyReLU)      (None, 32, 32, 64)   0           instance_normalization_28[0][0]  \n",
      "__________________________________________________________________________________________________\n",
      "max_pooling2d_4 (MaxPooling2D)  (None, 16, 16, 64)   0           leaky_re_lu_21[0][0]             \n",
      "__________________________________________________________________________________________________\n",
      "conv2d_31 (Conv2D)              (None, 16, 16, 128)  73856       max_pooling2d_4[0][0]            \n",
      "__________________________________________________________________________________________________\n",
      "instance_normalization_29 (Inst (None, 16, 16, 128)  256         conv2d_31[0][0]                  \n",
      "__________________________________________________________________________________________________\n",
      "leaky_re_lu_22 (LeakyReLU)      (None, 16, 16, 128)  0           instance_normalization_29[0][0]  \n",
      "__________________________________________________________________________________________________\n",
      "conv2d_32 (Conv2D)              (None, 16, 16, 128)  147584      leaky_re_lu_22[0][0]             \n",
      "__________________________________________________________________________________________________\n",
      "instance_normalization_30 (Inst (None, 16, 16, 128)  256         conv2d_32[0][0]                  \n",
      "__________________________________________________________________________________________________\n",
      "leaky_re_lu_23 (LeakyReLU)      (None, 16, 16, 128)  0           instance_normalization_30[0][0]  \n",
      "__________________________________________________________________________________________________\n",
      "max_pooling2d_5 (MaxPooling2D)  (None, 8, 8, 128)    0           leaky_re_lu_23[0][0]             \n",
      "__________________________________________________________________________________________________\n",
      "conv2d_33 (Conv2D)              (None, 8, 8, 256)    295168      max_pooling2d_5[0][0]            \n",
      "__________________________________________________________________________________________________\n",
      "instance_normalization_31 (Inst (None, 8, 8, 256)    512         conv2d_33[0][0]                  \n",
      "__________________________________________________________________________________________________\n",
      "leaky_re_lu_24 (LeakyReLU)      (None, 8, 8, 256)    0           instance_normalization_31[0][0]  \n",
      "__________________________________________________________________________________________________\n",
      "conv2d_34 (Conv2D)              (None, 8, 8, 256)    590080      leaky_re_lu_24[0][0]             \n",
      "__________________________________________________________________________________________________\n",
      "instance_normalization_32 (Inst (None, 8, 8, 256)    512         conv2d_34[0][0]                  \n",
      "__________________________________________________________________________________________________\n",
      "leaky_re_lu_25 (LeakyReLU)      (None, 8, 8, 256)    0           instance_normalization_32[0][0]  \n",
      "__________________________________________________________________________________________________\n",
      "max_pooling2d_6 (MaxPooling2D)  (None, 4, 4, 256)    0           leaky_re_lu_25[0][0]             \n",
      "__________________________________________________________________________________________________\n",
      "conv2d_35 (Conv2D)              (None, 4, 4, 512)    1180160     max_pooling2d_6[0][0]            \n",
      "__________________________________________________________________________________________________\n",
      "instance_normalization_33 (Inst (None, 4, 4, 512)    1024        conv2d_35[0][0]                  \n",
      "__________________________________________________________________________________________________\n",
      "leaky_re_lu_26 (LeakyReLU)      (None, 4, 4, 512)    0           instance_normalization_33[0][0]  \n",
      "__________________________________________________________________________________________________\n",
      "conv2d_36 (Conv2D)              (None, 4, 4, 512)    2359808     leaky_re_lu_26[0][0]             \n",
      "__________________________________________________________________________________________________\n",
      "instance_normalization_34 (Inst (None, 4, 4, 512)    1024        conv2d_36[0][0]                  \n",
      "__________________________________________________________________________________________________\n",
      "leaky_re_lu_27 (LeakyReLU)      (None, 4, 4, 512)    0           instance_normalization_34[0][0]  \n",
      "__________________________________________________________________________________________________\n",
      "dropout_2 (Dropout)             (None, 4, 4, 512)    0           leaky_re_lu_27[0][0]             \n",
      "__________________________________________________________________________________________________\n",
      "max_pooling2d_7 (MaxPooling2D)  (None, 2, 2, 512)    0           dropout_2[0][0]                  \n",
      "__________________________________________________________________________________________________\n",
      "conv2d_37 (Conv2D)              (None, 2, 2, 1024)   4719616     max_pooling2d_7[0][0]            \n",
      "__________________________________________________________________________________________________\n",
      "instance_normalization_35 (Inst (None, 2, 2, 1024)   2048        conv2d_37[0][0]                  \n",
      "__________________________________________________________________________________________________\n",
      "leaky_re_lu_28 (LeakyReLU)      (None, 2, 2, 1024)   0           instance_normalization_35[0][0]  \n",
      "__________________________________________________________________________________________________\n",
      "conv2d_38 (Conv2D)              (None, 2, 2, 1024)   9438208     leaky_re_lu_28[0][0]             \n",
      "__________________________________________________________________________________________________\n",
      "instance_normalization_36 (Inst (None, 2, 2, 1024)   2048        conv2d_38[0][0]                  \n",
      "__________________________________________________________________________________________________\n",
      "leaky_re_lu_29 (LeakyReLU)      (None, 2, 2, 1024)   0           instance_normalization_36[0][0]  \n",
      "__________________________________________________________________________________________________\n",
      "dropout_3 (Dropout)             (None, 2, 2, 1024)   0           leaky_re_lu_29[0][0]             \n",
      "__________________________________________________________________________________________________\n",
      "up_sampling2d_4 (UpSampling2D)  (None, 4, 4, 1024)   0           dropout_3[0][0]                  \n",
      "__________________________________________________________________________________________________\n",
      "conv2d_39 (Conv2D)              (None, 4, 4, 512)    2097664     up_sampling2d_4[0][0]            \n",
      "__________________________________________________________________________________________________\n",
      "instance_normalization_37 (Inst (None, 4, 4, 512)    1024        conv2d_39[0][0]                  \n",
      "__________________________________________________________________________________________________\n",
      "activation_9 (Activation)       (None, 4, 4, 512)    0           instance_normalization_37[0][0]  \n",
      "__________________________________________________________________________________________________\n",
      "concatenate_4 (Concatenate)     (None, 4, 4, 1024)   0           activation_9[0][0]               \n",
      "                                                                 dropout_2[0][0]                  \n",
      "__________________________________________________________________________________________________\n",
      "conv2d_40 (Conv2D)              (None, 4, 4, 512)    4719104     concatenate_4[0][0]              \n",
      "__________________________________________________________________________________________________\n",
      "instance_normalization_38 (Inst (None, 4, 4, 512)    1024        conv2d_40[0][0]                  \n",
      "__________________________________________________________________________________________________\n",
      "activation_10 (Activation)      (None, 4, 4, 512)    0           instance_normalization_38[0][0]  \n",
      "__________________________________________________________________________________________________\n",
      "up_sampling2d_5 (UpSampling2D)  (None, 8, 8, 512)    0           activation_10[0][0]              \n",
      "__________________________________________________________________________________________________\n",
      "conv2d_41 (Conv2D)              (None, 8, 8, 256)    524544      up_sampling2d_5[0][0]            \n",
      "__________________________________________________________________________________________________\n",
      "instance_normalization_39 (Inst (None, 8, 8, 256)    512         conv2d_41[0][0]                  \n",
      "__________________________________________________________________________________________________\n",
      "activation_11 (Activation)      (None, 8, 8, 256)    0           instance_normalization_39[0][0]  \n",
      "__________________________________________________________________________________________________\n",
      "concatenate_5 (Concatenate)     (None, 8, 8, 512)    0           activation_11[0][0]              \n",
      "                                                                 leaky_re_lu_25[0][0]             \n",
      "__________________________________________________________________________________________________\n",
      "conv2d_42 (Conv2D)              (None, 8, 8, 256)    1179904     concatenate_5[0][0]              \n",
      "__________________________________________________________________________________________________\n",
      "instance_normalization_40 (Inst (None, 8, 8, 256)    512         conv2d_42[0][0]                  \n",
      "__________________________________________________________________________________________________\n",
      "activation_12 (Activation)      (None, 8, 8, 256)    0           instance_normalization_40[0][0]  \n",
      "__________________________________________________________________________________________________\n",
      "up_sampling2d_6 (UpSampling2D)  (None, 16, 16, 256)  0           activation_12[0][0]              \n",
      "__________________________________________________________________________________________________\n",
      "conv2d_43 (Conv2D)              (None, 16, 16, 128)  131200      up_sampling2d_6[0][0]            \n",
      "__________________________________________________________________________________________________\n",
      "instance_normalization_41 (Inst (None, 16, 16, 128)  256         conv2d_43[0][0]                  \n",
      "__________________________________________________________________________________________________\n",
      "activation_13 (Activation)      (None, 16, 16, 128)  0           instance_normalization_41[0][0]  \n",
      "__________________________________________________________________________________________________\n",
      "concatenate_6 (Concatenate)     (None, 16, 16, 256)  0           activation_13[0][0]              \n",
      "                                                                 leaky_re_lu_23[0][0]             \n",
      "__________________________________________________________________________________________________\n",
      "conv2d_44 (Conv2D)              (None, 16, 16, 128)  295040      concatenate_6[0][0]              \n",
      "__________________________________________________________________________________________________\n",
      "instance_normalization_42 (Inst (None, 16, 16, 128)  256         conv2d_44[0][0]                  \n",
      "__________________________________________________________________________________________________\n",
      "activation_14 (Activation)      (None, 16, 16, 128)  0           instance_normalization_42[0][0]  \n",
      "__________________________________________________________________________________________________\n",
      "up_sampling2d_7 (UpSampling2D)  (None, 32, 32, 128)  0           activation_14[0][0]              \n",
      "__________________________________________________________________________________________________\n",
      "conv2d_45 (Conv2D)              (None, 32, 32, 64)   32832       up_sampling2d_7[0][0]            \n",
      "__________________________________________________________________________________________________\n",
      "instance_normalization_43 (Inst (None, 32, 32, 64)   128         conv2d_45[0][0]                  \n",
      "__________________________________________________________________________________________________\n",
      "activation_15 (Activation)      (None, 32, 32, 64)   0           instance_normalization_43[0][0]  \n",
      "__________________________________________________________________________________________________\n",
      "concatenate_7 (Concatenate)     (None, 32, 32, 128)  0           activation_15[0][0]              \n",
      "                                                                 leaky_re_lu_21[0][0]             \n",
      "__________________________________________________________________________________________________\n",
      "conv2d_46 (Conv2D)              (None, 32, 32, 64)   73792       concatenate_7[0][0]              \n",
      "__________________________________________________________________________________________________\n",
      "instance_normalization_44 (Inst (None, 32, 32, 64)   128         conv2d_46[0][0]                  \n",
      "__________________________________________________________________________________________________\n",
      "activation_16 (Activation)      (None, 32, 32, 64)   0           instance_normalization_44[0][0]  \n",
      "__________________________________________________________________________________________________\n",
      "conv2d_47 (Conv2D)              (None, 32, 32, 3)    195         activation_16[0][0]              \n",
      "==================================================================================================\n",
      "Total params: 27,909,251\n",
      "Trainable params: 27,909,251\n",
      "Non-trainable params: 0\n",
      "__________________________________________________________________________________________________\n",
      "Model: \"model_5\"\n",
      "_________________________________________________________________\n",
      "Layer (type)                 Output Shape              Param #   \n",
      "=================================================================\n",
      "input_8 (InputLayer)         [(None, 32, 32, 3)]       0         \n",
      "_________________________________________________________________\n",
      "conv2d_48 (Conv2D)           (None, 32, 32, 64)        1792      \n",
      "_________________________________________________________________\n",
      "instance_normalization_45 (I (None, 32, 32, 64)        128       \n",
      "_________________________________________________________________\n",
      "leaky_re_lu_30 (LeakyReLU)   (None, 32, 32, 64)        0         \n",
      "_________________________________________________________________\n",
      "conv2d_49 (Conv2D)           (None, 16, 16, 64)        36928     \n",
      "_________________________________________________________________\n",
      "instance_normalization_46 (I (None, 16, 16, 64)        128       \n",
      "_________________________________________________________________\n",
      "leaky_re_lu_31 (LeakyReLU)   (None, 16, 16, 64)        0         \n",
      "_________________________________________________________________\n",
      "conv2d_50 (Conv2D)           (None, 16, 16, 128)       73856     \n",
      "_________________________________________________________________\n",
      "instance_normalization_47 (I (None, 16, 16, 128)       256       \n",
      "_________________________________________________________________\n",
      "leaky_re_lu_32 (LeakyReLU)   (None, 16, 16, 128)       0         \n",
      "_________________________________________________________________\n",
      "conv2d_51 (Conv2D)           (None, 8, 8, 128)         147584    \n",
      "_________________________________________________________________\n",
      "instance_normalization_48 (I (None, 8, 8, 128)         256       \n",
      "_________________________________________________________________\n",
      "leaky_re_lu_33 (LeakyReLU)   (None, 8, 8, 128)         0         \n",
      "_________________________________________________________________\n",
      "conv2d_52 (Conv2D)           (None, 8, 8, 256)         295168    \n",
      "_________________________________________________________________\n",
      "instance_normalization_49 (I (None, 8, 8, 256)         512       \n",
      "_________________________________________________________________\n",
      "leaky_re_lu_34 (LeakyReLU)   (None, 8, 8, 256)         0         \n",
      "_________________________________________________________________\n",
      "conv2d_53 (Conv2D)           (None, 4, 4, 256)         590080    \n",
      "_________________________________________________________________\n",
      "instance_normalization_50 (I (None, 4, 4, 256)         512       \n",
      "_________________________________________________________________\n",
      "leaky_re_lu_35 (LeakyReLU)   (None, 4, 4, 256)         0         \n",
      "_________________________________________________________________\n",
      "conv2d_54 (Conv2D)           (None, 4, 4, 512)         1180160   \n",
      "_________________________________________________________________\n",
      "instance_normalization_51 (I (None, 4, 4, 512)         1024      \n",
      "_________________________________________________________________\n",
      "leaky_re_lu_36 (LeakyReLU)   (None, 4, 4, 512)         0         \n",
      "_________________________________________________________________\n",
      "conv2d_55 (Conv2D)           (None, 2, 2, 512)         2359808   \n",
      "_________________________________________________________________\n",
      "instance_normalization_52 (I (None, 2, 2, 512)         1024      \n",
      "_________________________________________________________________\n",
      "leaky_re_lu_37 (LeakyReLU)   (None, 2, 2, 512)         0         \n",
      "_________________________________________________________________\n",
      "conv2d_56 (Conv2D)           (None, 2, 2, 100)         460900    \n",
      "_________________________________________________________________\n",
      "instance_normalization_53 (I (None, 2, 2, 100)         200       \n",
      "_________________________________________________________________\n",
      "leaky_re_lu_38 (LeakyReLU)   (None, 2, 2, 100)         0         \n",
      "_________________________________________________________________\n",
      "conv2d_57 (Conv2D)           (None, 1, 1, 100)         90100     \n",
      "_________________________________________________________________\n",
      "leaky_re_lu_39 (LeakyReLU)   (None, 1, 1, 100)         0         \n",
      "_________________________________________________________________\n",
      "flatten_1 (Flatten)          (None, 100)               0         \n",
      "_________________________________________________________________\n",
      "dense_1 (Dense)              (None, 1)                 101       \n",
      "_________________________________________________________________\n",
      "activation_17 (Activation)   (None, 1)                 0         \n",
      "=================================================================\n",
      "Total params: 5,240,517\n",
      "Trainable params: 5,240,517\n",
      "Non-trainable params: 0\n",
      "_________________________________________________________________\n"
     ]
    }
   ],
   "source": [
    "generator = build_unet(size=(SIZE,SIZE,3))\n",
    "generator.summary()\n",
    "\n",
    "discriminator = build_discriminator(size=(SIZE,SIZE,3))\n",
    "discriminator.summary()"
   ]
  },
  {
   "cell_type": "markdown",
   "metadata": {
    "id": "ckNB6i3kMnP-"
   },
   "source": [
    "あとで必要になるので、latent lossに使う特徴量の次元を取得しておく："
   ]
  },
  {
   "cell_type": "code",
   "execution_count": null,
   "metadata": {
    "id": "CGEtQ1lRLQO8"
   },
   "outputs": [],
   "source": [
    "latent_dim = discriminator.output[0].shape[1]"
   ]
  },
  {
   "cell_type": "markdown",
   "metadata": {
    "id": "7i1eumyTM7wl"
   },
   "source": [
    "# 2. 学習の準備\n",
    "\n",
    "今回のモデルは色々lossがあるので、trainingに使うモデルを工夫しておく。この辺りが実装で、工夫や頭を使う必要がある部分。このような様々な具体例を通じて、柔軟な実装の腕を鍛えてゆくこと。\n",
    "\n",
    "では先ほど作った`generator`と`discrimiator`を使って、次のモデルを作ります："
   ]
  },
  {
   "cell_type": "code",
   "execution_count": null,
   "metadata": {
    "id": "AUpVHEZBGd94"
   },
   "outputs": [],
   "source": [
    "from tensorflow.keras.optimizers import Adam\n",
    "\n",
    "opt = Adam(lr=0.002, beta_1=0.5, beta_2=0.999)\n",
    "\n",
    "# discriminatorを学習させるためのモデル\n",
    "D_in0 = layers.Input((SIZE, SIZE, 3)) # real画像1\n",
    "D_in1 = layers.Input((SIZE, SIZE, 3)) # real画像2\n",
    "D_in2 = layers.Input((SIZE, SIZE, 3)) # real画像1から作ったfake画像\n",
    "\n",
    "_, D_out0= discriminator(D_in0) # real画像1の真偽判定\n",
    "f_1, _= discriminator(D_in1) # real画像2のlatent\n",
    "f_2, D_out2= discriminator(D_in2) # fake画像のlatentと真偽判定\n",
    "f_sub = layers.Subtract()([f_1,f_2]) # real画像2のlatent - fake画像のlatent。Dのlatent loss計算に使う\n",
    "\n",
    "# 出力は real画像1の真偽判定、real画像2の真偽判定、(real画像2のlatent - fake画像のlatent)\n",
    "gan_D = Model(inputs=[D_in0, D_in1, D_in2], outputs=[D_out0, D_out2, f_sub])\n",
    "# latent lossにはy_true=0を与えてmseを計算すれば (real画像2のlatent - fake画像のlatent)**2 となる。\n",
    "gan_D.compile(loss=['binary_crossentropy', 'binary_crossentropy', 'mse'], loss_weights=[1, 1, 1], optimizer=opt)\n",
    "\n",
    "discriminator.trainable = False\n",
    "\n",
    "# generatorを学習させるためのモデル\n",
    "G_in = layers.Input((SIZE, SIZE, 3)) # real画像\n",
    "\n",
    "x_hat = generator(G_in) # fake画像\n",
    "f_hat, G_out = discriminator(x_hat) # fake画像のlatentと真偽判定\n",
    "x_sub = layers.Subtract()([G_in,x_hat]) # real画像 - fake画像。contextual loss計算に使う\n",
    "\n",
    "f, _ = discriminator(G_in) # real画像のlatent\n",
    "f_G = layers.Subtract()([f_hat,f]) # real画像のlatent - fake画像のlatent。Gのlatent loss計算に使う\n",
    "\n",
    "# 出力は fake画像の真偽判定、(real画像 - fake画像)、(real画像のlatent - fake画像のlatent)\n",
    "gan_G = Model(inputs=G_in, outputs=[G_out, x_sub, f_G])\n",
    "# contextual lossにはy_true=0を与えてmaeを計算すれば |real画像 - fake画像| となる。\n",
    "gan_G.compile(loss=['binary_crossentropy', 'mae', 'mse'], loss_weights=[1, 40, 1], optimizer=opt)"
   ]
  },
  {
   "cell_type": "markdown",
   "metadata": {
    "id": "V4BNTEoRPKjz"
   },
   "source": [
    "# 3. 学習\n",
    "\n",
    "まずは、CIFAR10の訓練データから0番目の飛行機クラスを除いたものを正常訓練データ`x_train`とする。\n",
    "\n",
    "CIFAR10の訓練データの飛行機画像と、テストデータの飛行機画像を合わせてテスト用の異常画像`x_test_anom`とする。また、テストデータの飛行機画像以外をテスト用の正常画像`x_test_normal`とする。\n",
    "\n",
    "\n",
    "<b>ここでは一気にテストデータを使ったが、本当は検証データを用意して正しくやること！</b>"
   ]
  },
  {
   "cell_type": "code",
   "execution_count": null,
   "metadata": {
    "id": "KZi9xvSBM8fE"
   },
   "outputs": [],
   "source": [
    "from tensorflow.keras.datasets import cifar10\n",
    "from tensorflow.keras.utils import to_categorical\n",
    "\n",
    "(x_train,y_train), (x_test,y_test)=cifar10.load_data()\n",
    "\n",
    "anom_class = 0\n",
    "\n",
    "x_train = x_train.astype('float32')/127.5 - 1\n",
    "x_test = x_test.astype('float32')/127.5 - 1\n",
    "\n",
    "x_test_anom = np.concatenate([x_train[np.squeeze(y_train)==anom_class], x_test[np.squeeze(y_test)==anom_class]], axis=0)\n",
    "x_train = x_train[np.squeeze(y_train)!=anom_class]\n",
    "x_test_normal = x_test[np.squeeze(y_test)!=anom_class]"
   ]
  },
  {
   "cell_type": "code",
   "execution_count": null,
   "metadata": {
    "colab": {
     "base_uri": "https://localhost:8080/",
     "height": 283
    },
    "id": "lUY8014kNO9m",
    "outputId": "17427cb7-e61c-4a23-b3ae-711a9447ecc1"
   },
   "outputs": [
    {
     "data": {
      "text/plain": [
       "<matplotlib.image.AxesImage at 0x1467b4b14e80>"
      ]
     },
     "execution_count": 26,
     "metadata": {
      "tags": []
     },
     "output_type": "execute_result"
    },
    {
     "data": {
      "image/png": "[encoded data removed]",
      "text/plain": [
       "<Figure size 432x288 with 1 Axes>"
      ]
     },
     "metadata": {
      "needs_background": "light",
      "tags": []
     },
     "output_type": "display_data"
    }
   ],
   "source": [
    "plt.imshow((x_train[0]+1)/2)"
   ]
  },
  {
   "cell_type": "code",
   "execution_count": null,
   "metadata": {
    "colab": {
     "base_uri": "https://localhost:8080/",
     "height": 283
    },
    "id": "reIHovdmJ-yq",
    "outputId": "8f503588-a627-47bf-c225-bc96d4574536"
   },
   "outputs": [
    {
     "data": {
      "text/plain": [
       "<matplotlib.image.AxesImage at 0x1467b4aff438>"
      ]
     },
     "execution_count": 27,
     "metadata": {
      "tags": []
     },
     "output_type": "execute_result"
    },
    {
     "data": {
      "image/png": "[encoded data removed]",
      "text/plain": [
       "<Figure size 432x288 with 1 Axes>"
      ]
     },
     "metadata": {
      "needs_background": "light",
      "tags": []
     },
     "output_type": "display_data"
    }
   ],
   "source": [
    "plt.imshow((x_test_normal[0]+1)/2)"
   ]
  },
  {
   "cell_type": "markdown",
   "metadata": {
    "id": "07zPCLK_P87u"
   },
   "source": [
    "いつも通り訓練関数を作っておく"
   ]
  },
  {
   "cell_type": "code",
   "execution_count": null,
   "metadata": {
    "id": "C8z0ckzEDaes"
   },
   "outputs": [],
   "source": [
    "d_history = []\n",
    "g_history = []\n",
    "\n",
    "def train(x_train, n_epochs=200, n_batch=128, x_val=x_test_normal):\n",
    "    n_train = x_train.shape[0]\n",
    "    bat_per_epoch = int(x_train.shape[0] / n_batch)\n",
    "    y_real = np.ones((n_batch,))\n",
    "    y_fake = np.zeros((n_batch,))\n",
    "    y_dummy = np.zeros((n_batch, latent_dim)) # latent lossの計算にわたすy_true=0\n",
    "    xhat_dummy = np.zeros((n_batch, )+ x_train.shape[1:]) # contextual lossの計算にわたすy_true=0\n",
    "\n",
    "    for i in range(n_epochs):\n",
    "        \n",
    "        for j in range(bat_per_epoch):\n",
    "\n",
    "            idxes = np.random.choice(list(range(n_train)), n_batch)\n",
    "            x_batch_0 = x_train[idxes]\n",
    "            idxes = np.random.choice(list(range(n_train)), n_batch)\n",
    "            x_batch = x_train[idxes]\n",
    "            xhat_batch = generator.predict(x_batch)\n",
    "            \n",
    "            d_loss = gan_D.train_on_batch([x_batch_0, x_batch, xhat_batch], [y_real, y_fake, y_dummy])\n",
    "            d_history.append(d_loss)\n",
    "\n",
    "            idxes = np.random.choice(list(range(n_train)), n_batch)\n",
    "            x_batch = x_train[idxes]\n",
    "            g_loss = gan_G.train_on_batch(x_batch, [y_real, xhat_dummy, y_dummy])\n",
    "            g_history.append(g_loss)\n",
    "\n",
    "            if j  == 0:\n",
    "                print('epoch', i)\n",
    "                print('D', d_loss[0], ', G', g_loss[0])\n",
    "                print('D adv loss real', d_loss[1], ', D adv loss fake',  d_loss[2], ', D latent loss', d_loss[3])\n",
    "                print('G adv loss', g_loss[1], 'G contextual loss', g_loss[2], 'G latent loss', g_loss[3])\n",
    "                # 複数枚表示するようにした方が良い\n",
    "                xhat_val = generator.predict(x_val[:1])\n",
    "                plt.imshow((xhat_val[0,:,:,:]+1)/2)\n",
    "                plt.axis(\"off\")\n",
    "                plt.show()\n",
    "            # 5エポック以降は重みを保存\n",
    "            if i>4:\n",
    "                gan_G.save_weights(DATASET_PATH + '/skip_GANomaly_%sepochs.h5' % i)"
   ]
  },
  {
   "cell_type": "markdown",
   "metadata": {
    "id": "55Kgxi8xTZVg"
   },
   "source": [
    "では学習です。本当はちゃんと`x_val`をつくって最後の引数に渡してください。\n",
    "\n",
    "原論文に従い、15エポック学習させる："
   ]
  },
  {
   "cell_type": "code",
   "execution_count": null,
   "metadata": {
    "colab": {
     "base_uri": "https://localhost:8080/",
     "height": 1000
    },
    "id": "xEOuklZ-NdsQ",
    "outputId": "656ee5a8-6f0e-438b-9e60-36bee64272d5"
   },
   "outputs": [
    {
     "name": "stdout",
     "output_type": "stream",
     "text": [
      "epoch 0\n",
      "D 1.4319365 , G 19.47892\n",
      "D adv loss real 0.7138454 , D adv loss fake 0.6401634 , D latent loss 0.077927716\n",
      "G adv loss 0.12785655 G contextual loss 0.4837564 G latent loss 0.0008068306\n"
     ]
    },
    {
     "data": {
      "image/png": "[encoded data removed]",
      "text/plain": [
       "<Figure size 432x288 with 1 Axes>"
      ]
     },
     "metadata": {
      "needs_background": "light",
      "tags": []
     },
     "output_type": "display_data"
    },
    {
     "name": "stdout",
     "output_type": "stream",
     "text": [
      "epoch 1\n",
      "D 1.3862947 , G 1.8200057\n",
      "D adv loss real 0.69314194 , D adv loss fake 0.6931528 , D latent loss 3.0893693e-12\n",
      "G adv loss 0.69315135 G contextual loss 0.028171357 G latent loss 3.8386963e-12\n"
     ]
    },
    {
     "data": {
      "image/png": "[encoded data removed]",
      "text/plain": [
       "<Figure size 432x288 with 1 Axes>"
      ]
     },
     "metadata": {
      "needs_background": "light",
      "tags": []
     },
     "output_type": "display_data"
    },
    {
     "name": "stdout",
     "output_type": "stream",
     "text": [
      "epoch 2\n",
      "D 1.3862941 , G 1.6022235\n",
      "D adv loss real 0.6931195 , D adv loss fake 0.6931746 , D latent loss 1.8252721e-12\n",
      "G adv loss 0.6931335 G contextual loss 0.022727251 G latent loss 1.121649e-12\n"
     ]
    },
    {
     "data": {
      "image/png": "[encoded data removed]",
      "text/plain": [
       "<Figure size 432x288 with 1 Axes>"
      ]
     },
     "metadata": {
      "needs_background": "light",
      "tags": []
     },
     "output_type": "display_data"
    },
    {
     "name": "stdout",
     "output_type": "stream",
     "text": [
      "epoch 3\n",
      "D 1.3862917 , G 1.3237374\n",
      "D adv loss real 0.6931462 , D adv loss fake 0.69314545 , D latent loss 4.8486237e-13\n",
      "G adv loss 0.693145 G contextual loss 0.015764812 G latent loss 4.992536e-13\n"
     ]
    },
    {
     "data": {
      "image/png": "[encoded data removed]",
      "text/plain": [
       "<Figure size 432x288 with 1 Axes>"
      ]
     },
     "metadata": {
      "needs_background": "light",
      "tags": []
     },
     "output_type": "display_data"
    },
    {
     "name": "stdout",
     "output_type": "stream",
     "text": [
      "epoch 4\n",
      "D 1.3862888 , G 1.2398334\n",
      "D adv loss real 0.6931446 , D adv loss fake 0.69314414 , D latent loss 6.689403e-13\n",
      "G adv loss 0.6931444 G contextual loss 0.013667222 G latent loss 4.66147e-13\n"
     ]
    },
    {
     "data": {
      "image/png": "[encoded data removed]",
      "text/plain": [
       "<Figure size 432x288 with 1 Axes>"
      ]
     },
     "metadata": {
      "needs_background": "light",
      "tags": []
     },
     "output_type": "display_data"
    },
    {
     "name": "stdout",
     "output_type": "stream",
     "text": [
      "epoch 5\n",
      "D 1.3862945 , G 1.1706705\n",
      "D adv loss real 0.69309485 , D adv loss fake 0.69319963 , D latent loss 1.5449996e-12\n",
      "G adv loss 0.6932006 G contextual loss 0.0119367475 G latent loss 1.7746011e-12\n"
     ]
    },
    {
     "data": {
      "image/png": "[encoded data removed]",
      "text/plain": [
       "<Figure size 432x288 with 1 Axes>"
      ]
     },
     "metadata": {
      "needs_background": "light",
      "tags": []
     },
     "output_type": "display_data"
    },
    {
     "name": "stdout",
     "output_type": "stream",
     "text": [
      "epoch 6\n",
      "D 1.3862951 , G 1.2071359\n",
      "D adv loss real 0.6940554 , D adv loss fake 0.69223976 , D latent loss 2.8793504e-13\n",
      "G adv loss 0.69212484 G contextual loss 0.012875278 G latent loss 3.0446587e-13\n"
     ]
    },
    {
     "data": {
      "image/png": "[encoded data removed]",
      "text/plain": [
       "<Figure size 432x288 with 1 Axes>"
      ]
     },
     "metadata": {
      "needs_background": "light",
      "tags": []
     },
     "output_type": "display_data"
    },
    {
     "name": "stdout",
     "output_type": "stream",
     "text": [
      "epoch 7\n",
      "D 1.3862939 , G 1.1772342\n",
      "D adv loss real 0.6931397 , D adv loss fake 0.6931543 , D latent loss 1.03384423e-13\n",
      "G adv loss 0.6931551 G contextual loss 0.012101976 G latent loss 1.07131745e-13\n"
     ]
    },
    {
     "data": {
      "image/png": "[encoded data removed]",
      "text/plain": [
       "<Figure size 432x288 with 1 Axes>"
      ]
     },
     "metadata": {
      "needs_background": "light",
      "tags": []
     },
     "output_type": "display_data"
    },
    {
     "name": "stdout",
     "output_type": "stream",
     "text": [
      "epoch 8\n",
      "D 1.3862944 , G 1.2263459\n",
      "D adv loss real 0.6931454 , D adv loss fake 0.69314903 , D latent loss 4.569734e-14\n",
      "G adv loss 0.6931493 G contextual loss 0.013329914 G latent loss 5.8625054e-14\n"
     ]
    },
    {
     "data": {
      "image/png": "[encoded data removed]",
      "text/plain": [
       "<Figure size 432x288 with 1 Axes>"
      ]
     },
     "metadata": {
      "needs_background": "light",
      "tags": []
     },
     "output_type": "display_data"
    },
    {
     "name": "stdout",
     "output_type": "stream",
     "text": [
      "epoch 9\n",
      "D 1.3862944 , G 1.3028538\n",
      "D adv loss real 0.69314814 , D adv loss fake 0.6931462 , D latent loss 7.079021e-14\n",
      "G adv loss 0.69314545 G contextual loss 0.015242707 G latent loss 6.367183e-14\n"
     ]
    },
    {
     "data": {
      "image/png": "[encoded data removed]",
      "text/plain": [
       "<Figure size 432x288 with 1 Axes>"
      ]
     },
     "metadata": {
      "needs_background": "light",
      "tags": []
     },
     "output_type": "display_data"
    },
    {
     "name": "stdout",
     "output_type": "stream",
     "text": [
      "epoch 10\n",
      "D 1.3862932 , G 0.980127\n",
      "D adv loss real 0.69313353 , D adv loss fake 0.6931597 , D latent loss 1.5541725e-13\n",
      "G adv loss 0.69315886 G contextual loss 0.0071742022 G latent loss 1.5235416e-13\n"
     ]
    },
    {
     "data": {
      "image/png": "[encoded data removed]",
      "text/plain": [
       "<Figure size 432x288 with 1 Axes>"
      ]
     },
     "metadata": {
      "needs_background": "light",
      "tags": []
     },
     "output_type": "display_data"
    }
   ],
   "source": [
    "train(x_train, n_epochs=16, n_batch=32, x_val=x_test_normal)"
   ]
  },
  {
   "cell_type": "markdown",
   "metadata": {
    "id": "foGAxJy2QTRk"
   },
   "source": [
    "学習曲線"
   ]
  },
  {
   "cell_type": "code",
   "execution_count": null,
   "metadata": {
    "colab": {
     "base_uri": "https://localhost:8080/",
     "height": 513
    },
    "id": "0V51t3UpD8SL",
    "outputId": "dbb9977a-2ebd-4ca6-8352-0ec1776e709c"
   },
   "outputs": [
    {
     "data": {
      "image/png": "[encoded data removed]",
      "text/plain": [
       "<Figure size 432x288 with 1 Axes>"
      ]
     },
     "metadata": {
      "needs_background": "light",
      "tags": []
     },
     "output_type": "display_data"
    },
    {
     "data": {
      "image/png": "[encoded data removed]",
      "text/plain": [
       "<Figure size 432x288 with 1 Axes>"
      ]
     },
     "metadata": {
      "needs_background": "light",
      "tags": []
     },
     "output_type": "display_data"
    }
   ],
   "source": [
    "d_losses = np.array(d_history)[:,0]\n",
    "g_losses = np.array(g_history)[:,0]\n",
    "\n",
    "plt.plot(d_losses)\n",
    "plt.show()\n",
    "\n",
    "plt.plot(g_losses)\n",
    "plt.show()"
   ]
  },
  {
   "cell_type": "markdown",
   "metadata": {
    "id": "D2f2Td0fQVtz"
   },
   "source": [
    "# 4. 学習済みモデルの評価\n",
    "\n",
    "異常スコアを計算する関数を実装しておく："
   ]
  },
  {
   "cell_type": "code",
   "execution_count": null,
   "metadata": {
    "id": "IXPSof3WBygO"
   },
   "outputs": [],
   "source": [
    "def anomaly_score(x_batch, pred_model=gan_G, lam=0.9):\n",
    "    _, x_subtruct, feat_subtruct = pred_model.predict(x_batch)\n",
    "    R = np.mean(np.abs(x_subtruct), axis=(1,2,3))\n",
    "    L = np.mean(feat_subtruct**2, axis=-1)\n",
    "    A = lam*R + (1-lam)*L\n",
    "    return A"
   ]
  },
  {
   "cell_type": "markdown",
   "metadata": {
    "id": "tZvYDE8zPHx4"
   },
   "source": [
    "早速、学習済みモデルをテストしてみよう。すぐさま過学習するので、エポック選択が重要だが、ここではsloppyにテストデータで見てしまおう（本当は検証データでエポック数を選ぶこと！! このように選んだ結果を論文に書いたら、これはモデル選択を介した典型的なスヌーピングです。）\n",
    "\n",
    "<b>6エポック</b>"
   ]
  },
  {
   "cell_type": "code",
   "execution_count": null,
   "metadata": {
    "id": "5pSNI-CWJqJe",
    "outputId": "eaa91bc6-55ee-48bd-c9ba-ec469b68492f"
   },
   "outputs": [
    {
     "data": {
      "image/png": "[encoded data removed]",
      "text/plain": [
       "<Figure size 432x288 with 1 Axes>"
      ]
     },
     "metadata": {
      "needs_background": "light",
      "tags": []
     },
     "output_type": "display_data"
    }
   ],
   "source": [
    "gan_G.load_weights(DATASET_PATH + '/skip_GANomaly_5epochs.h5')\n",
    "\n",
    "score_anom = anomaly_score(x_test_anom, pred_model=gan_G)\n",
    "score_norm = anomaly_score(x_test_normal, pred_model=gan_G)\n",
    "scores = np.concatenate([score_anom,score_norm], axis=0)\n",
    "\n",
    "score_min, score_max = np.min(scores), np.max(scores)\n",
    "\n",
    "score_anom = (score_anom - score_min)/(score_max- score_min)\n",
    "score_norm = (score_norm - score_min)/(score_max- score_min)\n",
    "\n",
    "plt.hist(score_norm, bins=50)\n",
    "plt.hist(score_anom, bins=50, alpha=0.8)\n",
    "plt.show()"
   ]
  },
  {
   "cell_type": "markdown",
   "metadata": {
    "id": "pe4DL9D4JqJq"
   },
   "source": [
    "<b>7エポック</b>"
   ]
  },
  {
   "cell_type": "code",
   "execution_count": null,
   "metadata": {
    "id": "YpTXfSpOJqJr",
    "outputId": "4c5176d3-bfb0-4b95-941a-c8da74b62a51"
   },
   "outputs": [
    {
     "data": {
      "image/png": "[encoded data removed]",
      "text/plain": [
       "<Figure size 432x288 with 1 Axes>"
      ]
     },
     "metadata": {
      "needs_background": "light",
      "tags": []
     },
     "output_type": "display_data"
    }
   ],
   "source": [
    "gan_G.load_weights(DATASET_PATH + '/skip_GANomaly_6epochs.h5')\n",
    "\n",
    "score_anom = anomaly_score(x_test_anom, pred_model=gan_G)\n",
    "score_norm = anomaly_score(x_test_normal, pred_model=gan_G)\n",
    "scores = np.concatenate([score_anom,score_norm], axis=0)\n",
    "\n",
    "score_min, score_max = np.min(scores), np.max(scores)\n",
    "\n",
    "score_anom = (score_anom - score_min)/(score_max- score_min)\n",
    "score_norm = (score_norm - score_min)/(score_max- score_min)\n",
    "\n",
    "plt.hist(score_norm, bins=50)\n",
    "plt.hist(score_anom, bins=50, alpha=0.8)\n",
    "plt.show()"
   ]
  },
  {
   "cell_type": "markdown",
   "metadata": {
    "id": "zQMxVjO1JqJs"
   },
   "source": [
    "<b>8エポック</b>"
   ]
  },
  {
   "cell_type": "code",
   "execution_count": null,
   "metadata": {
    "id": "JyUsDtPqJqJt",
    "outputId": "7c0cbc74-6c25-4711-b634-1e7c542e8bfa"
   },
   "outputs": [
    {
     "data": {
      "image/png": "[encoded data removed]",
      "text/plain": [
       "<Figure size 432x288 with 1 Axes>"
      ]
     },
     "metadata": {
      "needs_background": "light",
      "tags": []
     },
     "output_type": "display_data"
    }
   ],
   "source": [
    "gan_G.load_weights(DATASET_PATH + '/skip_GANomaly_7epochs.h5')\n",
    "\n",
    "score_anom = anomaly_score(x_test_anom, pred_model=gan_G)\n",
    "score_norm = anomaly_score(x_test_normal, pred_model=gan_G)\n",
    "scores = np.concatenate([score_anom,score_norm], axis=0)\n",
    "\n",
    "score_min, score_max = np.min(scores), np.max(scores)\n",
    "\n",
    "score_anom = (score_anom - score_min)/(score_max- score_min)\n",
    "score_norm = (score_norm - score_min)/(score_max- score_min)\n",
    "\n",
    "plt.hist(score_norm, bins=50)\n",
    "plt.hist(score_anom, bins=50, alpha=0.8)\n",
    "plt.show()"
   ]
  },
  {
   "cell_type": "markdown",
   "metadata": {
    "id": "7qHqOMNxJqJu"
   },
   "source": [
    "<b>9エポック</b>"
   ]
  },
  {
   "cell_type": "code",
   "execution_count": null,
   "metadata": {
    "id": "358rW-VxJqJu",
    "outputId": "72b13dd5-d9fd-4b2d-c804-98eaadd3d760"
   },
   "outputs": [
    {
     "data": {
      "image/png": "[encoded data removed]",
      "text/plain": [
       "<Figure size 432x288 with 1 Axes>"
      ]
     },
     "metadata": {
      "needs_background": "light",
      "tags": []
     },
     "output_type": "display_data"
    }
   ],
   "source": [
    "gan_G.load_weights(DATASET_PATH + '/skip_GANomaly_8epochs.h5')\n",
    "\n",
    "score_anom = anomaly_score(x_test_anom, pred_model=gan_G)\n",
    "score_norm = anomaly_score(x_test_normal, pred_model=gan_G)\n",
    "scores = np.concatenate([score_anom,score_norm], axis=0)\n",
    "\n",
    "score_min, score_max = np.min(scores), np.max(scores)\n",
    "\n",
    "score_anom = (score_anom - score_min)/(score_max- score_min)\n",
    "score_norm = (score_norm - score_min)/(score_max- score_min)\n",
    "\n",
    "plt.hist(score_norm, bins=50)\n",
    "plt.hist(score_anom, bins=50, alpha=0.8)\n",
    "plt.show()"
   ]
  },
  {
   "cell_type": "code",
   "execution_count": null,
   "metadata": {
    "id": "JzPzHE9zJqJv"
   },
   "outputs": [],
   "source": []
  },
  {
   "cell_type": "markdown",
   "metadata": {
    "id": "V6sd61_RKwnt"
   },
   "source": [
    "# 問題\n",
    "\n",
    "学習済みの重み（7エポック）を配布したので、このモデルに対して異常検知のAUCを測りましょう。\n",
    "\n",
    "また、y=0以外のクラスについても学習させ、異常カテゴリごとのAUCの違いを観察せよ（GANomalyなどの論文の結果と比べてみるとよい）。\n",
    "\n",
    "またこの実装が原実装の細部を再現している保証はないので、詳しく調べてこのコードを改善せよ（そして調査結果を私に教えてください…）。"
   ]
  },
  {
   "cell_type": "code",
   "execution_count": null,
   "metadata": {
    "id": "_JCcHiweLTbV"
   },
   "outputs": [],
   "source": []
  }
 ],
 "metadata": {
  "accelerator": "GPU",
  "colab": {
   "collapsed_sections": [],
   "name": "A_thousand_ball_drill20210324_Skip-GANomaly.ipynb",
   "provenance": []
  },
  "kernelspec": {
   "display_name": "Python 3",
   "language": "python",
   "name": "python3"
  },
  "language_info": {
   "codemirror_mode": {
    "name": "ipython",
    "version": 3
   },
   "file_extension": ".py",
   "mimetype": "text/x-python",
   "name": "python",
   "nbconvert_exporter": "python",
   "pygments_lexer": "ipython3",
   "version": "3.7.4"
  }
 },
 "nbformat": 4,
 "nbformat_minor": 4
}
