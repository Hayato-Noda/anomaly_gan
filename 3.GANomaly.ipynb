{
 "cells": [
  {
   "cell_type": "markdown",
   "metadata": {
    "id": "AcAZzxB3FvGl"
   },
   "source": [
    "# <center>GANomaly</center>\n",
    "\n",
    "$L_{D}=\\log D(x)+\\log(1-D(\\hat{x})$ \\\n",
    "$L_{G}=L_{adv}+50L_{con}+L_{enc}$ \\\n",
    "推論フェーズ \\\n",
    "$A=MinMaxScaler(|z(x)-\\hat{z}(x)|)$"
   ]
  },
  {
   "cell_type": "code",
   "execution_count": 1,
   "metadata": {
    "id": "JP5zcWSMFsOB"
   },
   "outputs": [],
   "source": [
    "import numpy as np\n",
    "import matplotlib.pyplot as plt\n",
    "%matplotlib inline"
   ]
  },
  {
   "cell_type": "markdown",
   "metadata": {
    "id": "hzgPUqamckik"
   },
   "source": [
    "今回使うモデルのサイズと深さを決めておきましょう："
   ]
  },
  {
   "cell_type": "code",
   "execution_count": 2,
   "metadata": {
    "id": "-LIDYcaAajCe"
   },
   "outputs": [],
   "source": [
    "SIZE = 32\n",
    "DEPTH = 4\n",
    "DATASET_PATH = './save_weight/GANormaly'"
   ]
  },
  {
   "cell_type": "markdown",
   "metadata": {
    "id": "GWUE7RifOTGm"
   },
   "source": [
    "# 1. モデルの作成\n",
    "\n",
    "ジェネレータはUNetベースなので、もう勉強済みなので実装は簡単。ただ今回はインスタンス規格化を使うので、TensorFlow Addonsをインストールする。\n",
    "\n",
    "pip install tensorflow-addon"
   ]
  },
  {
   "cell_type": "markdown",
   "metadata": {
    "id": "HE1lbk9qMTrm"
   },
   "source": [
    "以下の部品は、ほぼ以前のUNetの実装の通り："
   ]
  },
  {
   "cell_type": "code",
   "execution_count": 3,
   "metadata": {
    "id": "NlrxylMBF4Ry"
   },
   "outputs": [],
   "source": [
    "import tensorflow as tf\n",
    "from tensorflow.keras import layers\n",
    "from tensorflow.keras import Model, Input\n",
    "\n",
    "from tensorflow_addons.layers import InstanceNormalization\n",
    "from tensorflow.keras.initializers import RandomNormal\n",
    "\n",
    "gamma_initializer = RandomNormal(mean=0.0, stddev=0.02)"
   ]
  },
  {
   "cell_type": "markdown",
   "metadata": {},
   "source": [
    "## Generator "
   ]
  },
  {
   "cell_type": "code",
   "execution_count": 4,
   "metadata": {},
   "outputs": [],
   "source": [
    "class enc_block(tf.keras.layers.Layer):\n",
    "    def __init__(self, n_channels, kernel_size, Dropout=False, Maxpool=True):\n",
    "        super(enc_block, self).__init__()\n",
    "        self.n_channels = n_channels\n",
    "        self.kernel_size = kernel_size\n",
    "        self.dropout = Dropout\n",
    "        self.maxpool = Maxpool\n",
    "        \n",
    "        self.layer1 = layers.Conv2D(self.n_channels, self.kernel_size, padding='same')\n",
    "        self.norm1 = InstanceNormalization()\n",
    "        self.layer2 = layers.Conv2D(self.n_channels, self.kernel_size, padding='same')\n",
    "        self.norm2 = InstanceNormalization()\n",
    "        self.maxlayer = layers.MaxPool2D((2,2),padding='same')\n",
    "        \n",
    "    def call(self, inputs):\n",
    "        x = self.layer1(inputs)\n",
    "        x = self.norm1(x)\n",
    "        x = layers.LeakyReLU(0.2)(x)\n",
    "        x = self.layer2(x)\n",
    "        x = self.norm2(x)\n",
    "        x = layers.LeakyReLU(0.2)(x)\n",
    "        \n",
    "        if self.dropout == True:\n",
    "            x = layers.Dropout(0.5)(x)\n",
    "        \n",
    "        if self.maxpool == True:\n",
    "            x = self.maxlayer(x)\n",
    "\n",
    "        return x\n",
    "    \n",
    "class dec_block(tf.keras.layers.Layer):\n",
    "    def __init__(self, n_channels, kernel_size):\n",
    "        super(dec_block, self).__init__()\n",
    "        self.n_channels = n_channels\n",
    "        \n",
    "        self.layer1 = layers.Conv2D(self.n_channels, (2,2), padding='same')\n",
    "        self.norm1 = InstanceNormalization()\n",
    "        self.layer2 = layers.Conv2D(self.n_channels, (3,3), padding='same')\n",
    "        self.norm2 = InstanceNormalization()\n",
    "        \n",
    "    def call(self, inputs):\n",
    "        x = layers.UpSampling2D((2, 2))(inputs)\n",
    "        x = self.layer1(x)\n",
    "        x = self.norm1(x)\n",
    "        x = layers.Activation('relu')(x)\n",
    "        x = self.layer2(x)\n",
    "        x = self.norm2(x)\n",
    "        x = layers.Activation('relu')(x)\n",
    "\n",
    "        return x"
   ]
  },
  {
   "cell_type": "code",
   "execution_count": 5,
   "metadata": {},
   "outputs": [],
   "source": [
    "class Encoder(tf.keras.Model):\n",
    "    def __init__(self, size):\n",
    "        super(Encoder, self).__init__()\n",
    "        self.size = size\n",
    "        self.n_classes = 3\n",
    "        \n",
    "        self.encoder1 = enc_block(64, 3)\n",
    "        self.encoder2 = enc_block(128,3)\n",
    "        self.encoder3 = enc_block(256,3)\n",
    "        self.encoder4 = enc_block(512,3,True)\n",
    "        self.encoder5 = enc_block(1024,3,True,False)\n",
    "      \n",
    "    def call(self, inputs):\n",
    "        \n",
    "        x = self.encoder1(inputs)\n",
    "        x = self.encoder2(x)\n",
    "        x = self.encoder3(x)\n",
    "        x = self.encoder4(x)\n",
    "        x = self.encoder5(x)\n",
    "        x = layers.Dropout(0.5)(x)\n",
    "        \n",
    "        return x\n",
    "    \n",
    "    #Subclass APIでSummaryを作るために利用する関数\n",
    "    def my_summary(self, input_shape):\n",
    "        \n",
    "        tmp_x = Input(shape=input_shape, name='tmp_input')\n",
    "        tmp_m = Model(inputs=tmp_x, outputs=self.call(tmp_x), name='tmp_model')\n",
    "        tmp_m.summary()\n",
    "        del tmp_x, tmp_m"
   ]
  },
  {
   "cell_type": "code",
   "execution_count": 6,
   "metadata": {},
   "outputs": [],
   "source": [
    "class Decoder(tf.keras.Model):\n",
    "    def __init__(self, size):\n",
    "        super(Decoder, self).__init__()\n",
    "        self.size = size\n",
    "        self.n_classes = 3\n",
    "        \n",
    "        self.decoder1 = dec_block(512,3)\n",
    "        self.decoder2 = dec_block(256,3)\n",
    "        self.decoder3 = dec_block(128,3)\n",
    "        self.decoder4 = dec_block(64,3)\n",
    "        \n",
    "        self.last_layer = layers.Conv2D(self.n_classes, (1,1), padding='same', activation='tanh')\n",
    "        \n",
    "    def call(self, inputs):\n",
    "        x = self.decoder1(inputs)\n",
    "        x = self.decoder2(x)\n",
    "        x = self.decoder3(x)\n",
    "        x = self.decoder4(x)\n",
    "        x = self.last_layer(x)\n",
    "\n",
    "        return x\n",
    "    \n",
    "    #Subclass APIでSummaryを作るために利用する関数\n",
    "    def my_summary(self, input_shape):\n",
    "        \n",
    "        tmp_x = Input(shape=input_shape, name='tmp_input')\n",
    "        tmp_m = Model(inputs=tmp_x, outputs=self.call(tmp_x), name='tmp_model')\n",
    "        tmp_m.summary()\n",
    "        del tmp_x, tmp_m"
   ]
  },
  {
   "cell_type": "code",
   "execution_count": 7,
   "metadata": {},
   "outputs": [
    {
     "name": "stdout",
     "output_type": "stream",
     "text": [
      "Model: \"tmp_model\"\n",
      "_________________________________________________________________\n",
      "Layer (type)                 Output Shape              Param #   \n",
      "=================================================================\n",
      "tmp_input (InputLayer)       [(None, 32, 32, 3)]       0         \n",
      "_________________________________________________________________\n",
      "enc_block (enc_block)        (None, 16, 16, 64)        38976     \n",
      "_________________________________________________________________\n",
      "enc_block_1 (enc_block)      (None, 8, 8, 128)         221952    \n",
      "_________________________________________________________________\n",
      "enc_block_2 (enc_block)      (None, 4, 4, 256)         886272    \n",
      "_________________________________________________________________\n",
      "enc_block_3 (enc_block)      (None, 2, 2, 512)         3542016   \n",
      "_________________________________________________________________\n",
      "enc_block_4 (enc_block)      (None, 2, 2, 1024)        14161920  \n",
      "_________________________________________________________________\n",
      "dropout (Dropout)            (None, 2, 2, 1024)        0         \n",
      "=================================================================\n",
      "Total params: 18,851,136\n",
      "Trainable params: 18,851,136\n",
      "Non-trainable params: 0\n",
      "_________________________________________________________________\n"
     ]
    }
   ],
   "source": [
    "encoder = Encoder(size=(SIZE,SIZE,3))\n",
    "encoder.my_summary((SIZE,SIZE,3))"
   ]
  },
  {
   "cell_type": "code",
   "execution_count": 8,
   "metadata": {
    "id": "pV5CGF3UnQYe"
   },
   "outputs": [
    {
     "name": "stdout",
     "output_type": "stream",
     "text": [
      "Model: \"tmp_model\"\n",
      "_________________________________________________________________\n",
      "Layer (type)                 Output Shape              Param #   \n",
      "=================================================================\n",
      "tmp_input (InputLayer)       [(None, 2, 2, 1024)]      0         \n",
      "_________________________________________________________________\n",
      "dec_block (dec_block)        (None, 4, 4, 512)         4459520   \n",
      "_________________________________________________________________\n",
      "dec_block_1 (dec_block)      (None, 8, 8, 256)         1115648   \n",
      "_________________________________________________________________\n",
      "dec_block_2 (dec_block)      (None, 16, 16, 128)       279296    \n",
      "_________________________________________________________________\n",
      "dec_block_3 (dec_block)      (None, 32, 32, 64)        70016     \n",
      "_________________________________________________________________\n",
      "conv2d_18 (Conv2D)           (None, 32, 32, 3)         195       \n",
      "=================================================================\n",
      "Total params: 5,924,675\n",
      "Trainable params: 5,924,675\n",
      "Non-trainable params: 0\n",
      "_________________________________________________________________\n"
     ]
    }
   ],
   "source": [
    "decoder = Decoder(size=(2,2,1024))\n",
    "decoder.my_summary((2,2,1024))"
   ]
  },
  {
   "cell_type": "markdown",
   "metadata": {},
   "source": [
    "## Discriminator\n",
    "latent lossの計算に最後の畳み込み層の出力も必要になるので、シグモイド出力と特徴マップ出力のペアを出力するモデルとした。"
   ]
  },
  {
   "cell_type": "code",
   "execution_count": 9,
   "metadata": {},
   "outputs": [],
   "source": [
    "class D_conv_block(tf.keras.layers.Layer):\n",
    "    def __init__(self, kernel_size=(3,3), n_channels=32, norm=True):\n",
    "        super(D_conv_block,self).__init__()\n",
    "        self.n_channels = n_channels\n",
    "        self.kernel_size = kernel_size\n",
    "        self.norm = norm\n",
    "        \n",
    "        self.layer1 = layers.Conv2D(n_channels, kernel_size, padding='same')\n",
    "        self.norm1 = InstanceNormalization()\n",
    "        self.layer2 = layers.Conv2D(n_channels, kernel_size, strides=2, padding='same')\n",
    "        self.norm2 = InstanceNormalization()\n",
    "        \n",
    "    def call(self,inputs):\n",
    "        x = self.layer1(inputs)\n",
    "        x = self.norm1(x)\n",
    "        x = layers.LeakyReLU(0.2)(x)\n",
    "        x = self.layer2(x)\n",
    "        \n",
    "        if self.norm == True:\n",
    "            x = self.norm2(x)\n",
    "            \n",
    "        x = layers.LeakyReLU(0.2)(x)\n",
    "\n",
    "        return x"
   ]
  },
  {
   "cell_type": "code",
   "execution_count": 10,
   "metadata": {},
   "outputs": [],
   "source": [
    "class Discriminator(tf.keras.Model):\n",
    "    def __init__(self, size, kernel_size=(3,3), n_channels=32):\n",
    "        super(Discriminator, self).__init__()\n",
    "        self.size = size\n",
    "        \n",
    "        self.layer1 = D_conv_block(n_channels=64)\n",
    "        self.layer2 = D_conv_block(n_channels=128)\n",
    "        self.layer3 = D_conv_block(n_channels=256)\n",
    "        self.layer4 = D_conv_block(n_channels=512)\n",
    "        self.layer5 = D_conv_block(n_channels=100,norm=False)\n",
    "        self.final = layers.Dense(1)\n",
    "        \n",
    "    def call(self,inputs):\n",
    "        x = self.layer1(inputs)\n",
    "        x = self.layer2(x)\n",
    "        x = self.layer3(x)\n",
    "        x = self.layer4(x)\n",
    "        f = self.layer5(x)\n",
    "        f = layers.Flatten()(f)\n",
    "        x = self.final(f)\n",
    "        x = layers.Activation('sigmoid')(x)\n",
    "        \n",
    "        return [f, x]\n",
    "    \n",
    "    #summaryを表示させるための関数\n",
    "    def my_summary(self, input_shape=(256,256,1)):\n",
    "        tmp_x = Input(shape=input_shape, name='tmp_input')\n",
    "        tmp_m = Model(inputs=tmp_x, outputs=self.call(tmp_x), name='tmp_model')\n",
    "        tmp_m.summary()\n",
    "        del tmp_x, tmp_m"
   ]
  },
  {
   "cell_type": "code",
   "execution_count": 11,
   "metadata": {
    "colab": {
     "base_uri": "https://localhost:8080/"
    },
    "id": "WH03Wf_NBxBG",
    "outputId": "2953b43a-5d05-404b-a14b-5fb1694cb66d"
   },
   "outputs": [
    {
     "name": "stdout",
     "output_type": "stream",
     "text": [
      "Model: \"tmp_model\"\n",
      "_________________________________________________________________\n",
      "Layer (type)                 Output Shape              Param #   \n",
      "=================================================================\n",
      "tmp_input (InputLayer)       [(None, 32, 32, 3)]       0         \n",
      "_________________________________________________________________\n",
      "d_conv_block (D_conv_block)  (None, 16, 16, 64)        38976     \n",
      "_________________________________________________________________\n",
      "d_conv_block_1 (D_conv_block (None, 8, 8, 128)         221952    \n",
      "_________________________________________________________________\n",
      "d_conv_block_2 (D_conv_block (None, 4, 4, 256)         886272    \n",
      "_________________________________________________________________\n",
      "d_conv_block_3 (D_conv_block (None, 2, 2, 512)         3542016   \n",
      "_________________________________________________________________\n",
      "d_conv_block_4 (D_conv_block (None, 1, 1, 100)         551200    \n",
      "_________________________________________________________________\n",
      "flatten (Flatten)            (None, 100)               0         \n",
      "_________________________________________________________________\n",
      "dense (Dense)                (None, 1)                 101       \n",
      "_________________________________________________________________\n",
      "activation (Activation)      (None, 1)                 0         \n",
      "=================================================================\n",
      "Total params: 5,240,517\n",
      "Trainable params: 5,240,517\n",
      "Non-trainable params: 0\n",
      "_________________________________________________________________\n"
     ]
    }
   ],
   "source": [
    "discriminator = Discriminator(size=(SIZE,SIZE,3))\n",
    "discriminator.my_summary((SIZE,SIZE,3))"
   ]
  },
  {
   "cell_type": "markdown",
   "metadata": {
    "id": "ckNB6i3kMnP-"
   },
   "source": [
    "あとで必要になるので、latent lossに使う特徴量の次元を取得しておく："
   ]
  },
  {
   "cell_type": "code",
   "execution_count": 12,
   "metadata": {
    "id": "CGEtQ1lRLQO8"
   },
   "outputs": [],
   "source": [
    "#latent_dim = discriminator.output[0].shape[1]\n",
    "latent_dim = 100"
   ]
  },
  {
   "cell_type": "code",
   "execution_count": 13,
   "metadata": {},
   "outputs": [],
   "source": [
    "optimizer = tf.keras.optimizers.Adam(lr=0.002, beta_1=0.5, beta_2=0.999)"
   ]
  },
  {
   "cell_type": "markdown",
   "metadata": {
    "id": "7i1eumyTM7wl"
   },
   "source": [
    "# 2. 学習の準備\n",
    "\n",
    "今回のモデルは色々lossがあるので、trainingに使うモデルを工夫しておく。この辺りが実装で、工夫や頭を使う必要がある部分。このような様々な具体例を通じて、柔軟な実装の腕を鍛えてゆくこと。\n",
    "\n",
    "では先ほど作った`generator`と`discrimiator`を使って、次のモデルを作ります："
   ]
  },
  {
   "cell_type": "code",
   "execution_count": 14,
   "metadata": {},
   "outputs": [],
   "source": [
    "# discriminatorを学習させるためのモデル\n",
    "def build_discriminator():\n",
    "    D_in0 = layers.Input((SIZE, SIZE, 3)) # real画像1\n",
    "    D_in2 = layers.Input((SIZE, SIZE, 3)) # real画像1から作ったfake画像\n",
    "\n",
    "    _, D_out0= discriminator(D_in0) # real画像1の真偽判定\n",
    "    _, D_out2= discriminator(D_in2) # fake画像のlatentと真偽判定\n",
    "    \n",
    "    # 出力は real画像1の真偽判定、real画像2の真偽判定\n",
    "    gan_D = Model(inputs=[D_in0, D_in2], outputs=[D_out0, D_out2])\n",
    "    \n",
    "    return gan_D\n",
    "\n",
    "gan_D = build_discriminator()"
   ]
  },
  {
   "cell_type": "code",
   "execution_count": 15,
   "metadata": {
    "id": "AUpVHEZBGd94"
   },
   "outputs": [],
   "source": [
    "# generatorを学習させるためのモデル\n",
    "def build_generator():\n",
    "    discriminator.trainable = False\n",
    "    \n",
    "    G_in = layers.Input((SIZE, SIZE, 3)) # real画像\n",
    "    \n",
    "    z = encoder(G_in)\n",
    "    x_hat = decoder(z) # fake画像\n",
    "    z_hat = encoder(x_hat) #encoderLoss計算のz_hat\n",
    "    \n",
    "    _, G_out = discriminator(x_hat) # fake画像のlatentと真偽判定\n",
    "    x_sub = layers.Subtract()([G_in,x_hat]) # contextual loss計算(real画像 - fake画像)\n",
    "    z_sub = layers.Subtract()([z_hat, z]) #encoder_lossの計算\n",
    "    \n",
    "    f, _ = discriminator(G_in) # real画像のlatent\n",
    "    \n",
    "    # 出力は fake画像の真偽判定、(real画像 - fake画像)、(real画像のlatent - fake画像のlatent)\n",
    "    gan_G = Model(inputs=G_in, outputs=[G_out, x_sub, z_sub])\n",
    "\n",
    "    return gan_G\n",
    "\n",
    "gan_G = build_generator()"
   ]
  },
  {
   "cell_type": "markdown",
   "metadata": {},
   "source": [
    "## loss関数の定義\n",
    "$L_{D}= \\log D(x)+\\log(1-D(\\hat{x}))$ \\\n",
    "$L_{G}=L_{adv}+50L_{con}+L_{enc}$\n"
   ]
  },
  {
   "cell_type": "code",
   "execution_count": 16,
   "metadata": {},
   "outputs": [],
   "source": [
    "def discriminator_loss_function(t,pred):\n",
    "    #loss1が真、loss2がFake画像の計算\n",
    "    loss1 = tf.reduce_mean(tf.keras.losses.binary_crossentropy(t[0], pred[0]))\n",
    "    loss2 = tf.reduce_mean(tf.keras.losses.binary_crossentropy(t[1], pred[1]))\n",
    "    \n",
    "    D_loss = loss1+loss2\n",
    "    \n",
    "    return [D_loss, loss1, loss2]\n",
    "\n",
    "def generator_loss_function(t, pred):\n",
    "    # loss1→fake画像の真偽判定\n",
    "    # loss2→contextual lossにはy_true=0を与えてmaeを計算すれば |real画像 - fake画像|\n",
    "    # loss3→enc\n",
    "    loss1 = tf.reduce_mean(tf.keras.losses.binary_crossentropy(t[0], pred[0]))\n",
    "    loss2 = tf.reduce_mean(tf.keras.losses.MAE(t[1], pred[1]))\n",
    "    loss3 = tf.reduce_mean(tf.keras.losses.MSE(t[2], pred[2]))\n",
    "    \n",
    "    G_loss = loss1 * 1 + loss2 * 50 + loss3 * 1\n",
    "    \n",
    "    return [G_loss, loss1, loss2, loss3]"
   ]
  },
  {
   "cell_type": "markdown",
   "metadata": {},
   "source": [
    "## tf.GradientTapeの設定"
   ]
  },
  {
   "cell_type": "code",
   "execution_count": 17,
   "metadata": {},
   "outputs": [],
   "source": [
    "@tf.function\n",
    "def discriminator_train_step(x, t):\n",
    "    with tf.GradientTape() as tape:\n",
    "        D_pred = gan_D(x, training=True)\n",
    "        D_loss = discriminator_loss_function(t, D_pred)\n",
    "    gradients = tape.gradient(D_loss[0], gan_D.trainable_variables)\n",
    "    optimizer.apply_gradients(zip(gradients, gan_D.trainable_variables))\n",
    "    \n",
    "    return D_loss\n",
    "\n",
    "@tf.function\n",
    "def generator_train_step(x, t):\n",
    "    with tf.GradientTape() as tape:\n",
    "        G_pred = gan_G(x)\n",
    "        G_loss = generator_loss_function(t, G_pred)\n",
    "    \n",
    "    gradients = tape.gradient(G_loss[0], gan_G.trainable_variables)\n",
    "    optimizer.apply_gradients(zip(gradients, gan_G.trainable_variables))\n",
    "    \n",
    "    return G_loss"
   ]
  },
  {
   "cell_type": "markdown",
   "metadata": {
    "id": "V4BNTEoRPKjz"
   },
   "source": [
    "# 3. 学習\n",
    "\n",
    "まずは、CIFAR10の訓練データから0番目の飛行機クラスを除いたものを正常訓練データ`x_train`とする。\n",
    "\n",
    "CIFAR10の訓練データの飛行機画像と、テストデータの飛行機画像を合わせてテスト用の異常画像`x_test_anom`とする。また、テストデータの飛行機画像以外をテスト用の正常画像`x_test_normal`とする。\n",
    "\n",
    "\n",
    "<b>ここでは一気にテストデータを使ったが、本当は検証データを用意して正しくやること！</b>"
   ]
  },
  {
   "cell_type": "code",
   "execution_count": 18,
   "metadata": {
    "id": "KZi9xvSBM8fE"
   },
   "outputs": [],
   "source": [
    "from tensorflow.keras.datasets import cifar10\n",
    "from tensorflow.keras.utils import to_categorical\n",
    "\n",
    "(x_train,y_train), (x_test,y_test)=cifar10.load_data()\n",
    "\n",
    "anom_class = 0\n",
    "\n",
    "x_train = x_train.astype('float32')/127.5 - 1\n",
    "x_test = x_test.astype('float32')/127.5 - 1\n",
    "\n",
    "x_test_anom = np.concatenate([x_train[np.squeeze(y_train)==anom_class], x_test[np.squeeze(y_test)==anom_class]], axis=0)\n",
    "x_train = x_train[np.squeeze(y_train)!=anom_class]\n",
    "x_test_normal = x_test[np.squeeze(y_test)!=anom_class]"
   ]
  },
  {
   "cell_type": "code",
   "execution_count": 19,
   "metadata": {
    "colab": {
     "base_uri": "https://localhost:8080/",
     "height": 283
    },
    "id": "lUY8014kNO9m",
    "outputId": "17427cb7-e61c-4a23-b3ae-711a9447ecc1"
   },
   "outputs": [
    {
     "data": {
      "text/plain": [
       "<matplotlib.image.AxesImage at 0x7fb7c04579d0>"
      ]
     },
     "execution_count": 19,
     "metadata": {},
     "output_type": "execute_result"
    },
    {
     "data": {
      "image/png": "[encoded data removed]",
      "text/plain": [
       "<Figure size 432x288 with 1 Axes>"
      ]
     },
     "metadata": {
      "needs_background": "light"
     },
     "output_type": "display_data"
    }
   ],
   "source": [
    "plt.imshow((x_train[0]+1)/2)"
   ]
  },
  {
   "cell_type": "code",
   "execution_count": 20,
   "metadata": {
    "colab": {
     "base_uri": "https://localhost:8080/",
     "height": 283
    },
    "id": "reIHovdmJ-yq",
    "outputId": "8f503588-a627-47bf-c225-bc96d4574536"
   },
   "outputs": [
    {
     "data": {
      "text/plain": [
       "<matplotlib.image.AxesImage at 0x7fb7c03520d0>"
      ]
     },
     "execution_count": 20,
     "metadata": {},
     "output_type": "execute_result"
    },
    {
     "data": {
      "image/png": "[encoded data removed]",
      "text/plain": [
       "<Figure size 432x288 with 1 Axes>"
      ]
     },
     "metadata": {
      "needs_background": "light"
     },
     "output_type": "display_data"
    }
   ],
   "source": [
    "plt.imshow((x_test_normal[0]+1)/2)"
   ]
  },
  {
   "cell_type": "code",
   "execution_count": 21,
   "metadata": {},
   "outputs": [
    {
     "data": {
      "text/plain": [
       "(45000, 32, 32, 3)"
      ]
     },
     "execution_count": 21,
     "metadata": {},
     "output_type": "execute_result"
    }
   ],
   "source": [
    "x_train.shape"
   ]
  },
  {
   "cell_type": "markdown",
   "metadata": {
    "id": "07zPCLK_P87u"
   },
   "source": []
  },
  {
   "cell_type": "code",
   "execution_count": 22,
   "metadata": {
    "id": "C8z0ckzEDaes"
   },
   "outputs": [],
   "source": [
    "d_history = []\n",
    "g_history = []\n",
    "\n",
    "def train(x_train, n_epochs, n_batch, x_val=x_test_normal):\n",
    "    n_train = x_train.shape[0]\n",
    "    bat_per_epoch = int(x_train.shape[0] / n_batch)\n",
    "    y_real = np.ones((n_batch,1))\n",
    "    y_fake = np.zeros((n_batch,1))\n",
    "    xhat_dummy = np.zeros((n_batch, )+ x_train.shape[1:]) # contextual lossの計算にわたすy_true=0\n",
    "    z_dummy = np.zeros((n_batch,2,2,1024)) #Encoder_lossの計算\n",
    "    \n",
    "    for i in range(n_epochs):    \n",
    "        for j in range(bat_per_epoch):\n",
    "            #Real画像の生成\n",
    "            #x_batch_0.shape, xhat_batch, x_batch=(32,32,32,3)\n",
    "            #y_real,y_fake=(32,1) y_dummy=(32,100)\n",
    "            idxes = np.random.choice(list(range(n_train)), n_batch)\n",
    "            x_batch_0 = x_train[idxes]\n",
    "            \n",
    "            #Fake画像の生成\n",
    "            idxes = np.random.choice(list(range(n_train)), n_batch)\n",
    "            x_batch = x_train[idxes]\n",
    "            z_batch = encoder.predict(x_batch)\n",
    "            xhat_batch = decoder.predict(z_batch)\n",
    "            \n",
    "            d_loss = discriminator_train_step([x_batch_0, xhat_batch], [y_real, y_fake])\n",
    "            d_history.append(d_loss)\n",
    "            \n",
    "            #xhat_dummy=(32,32,32,3)\n",
    "            idxes = np.random.choice(list(range(n_train)), n_batch)\n",
    "            x_batch = x_train[idxes]\n",
    "            g_loss = generator_train_step(x_batch, [y_real, xhat_dummy, z_dummy])\n",
    "            g_history.append(g_loss)\n",
    "\n",
    "            if j  == 0:\n",
    "                print('epoch', i)\n",
    "                print('D', d_loss[0], ', G', g_loss[0])\n",
    "                print('D adv loss real', d_loss[1], ', D adv loss fake',  d_loss[2], )\n",
    "                print('G adv loss', g_loss[1], 'G contextual loss', g_loss[2], 'G enc loss', g_loss[3])\n",
    "                # 複数枚表示するようにした方が良い\n",
    "                zhat_val = encoder.predict(x_val[:1])\n",
    "                xhat_val = decoder.predict(zhat_val)\n",
    "                plt.imshow((xhat_val[0,:,:,:]+1)/2)\n",
    "                plt.axis(\"off\")\n",
    "                plt.show()\n",
    "            # 5エポック以降は重みを保存\n",
    "            if i>4:\n",
    "                gan_G.save_weights(DATASET_PATH + '/GANomaly_%sepochs.h5' % i)"
   ]
  },
  {
   "cell_type": "markdown",
   "metadata": {
    "id": "55Kgxi8xTZVg"
   },
   "source": [
    "では学習です。本当はちゃんと`x_val`をつくって最後の引数に渡してください。\n",
    "\n",
    "原論文に従い、15エポック学習させる："
   ]
  },
  {
   "cell_type": "code",
   "execution_count": 23,
   "metadata": {
    "colab": {
     "base_uri": "https://localhost:8080/",
     "height": 1000
    },
    "id": "xEOuklZ-NdsQ",
    "outputId": "656ee5a8-6f0e-438b-9e60-36bee64272d5"
   },
   "outputs": [
    {
     "name": "stdout",
     "output_type": "stream",
     "text": [
      "epoch 0\n",
      "D tf.Tensor(1.403466, shape=(), dtype=float32) , G tf.Tensor(34.79375, shape=(), dtype=float32)\n",
      "D adv loss real tf.Tensor(0.77193284, shape=(), dtype=float32) , D adv loss fake tf.Tensor(0.6315332, shape=(), dtype=float32)\n",
      "G adv loss tf.Tensor(0.8857322, shape=(), dtype=float32) G contextual loss tf.Tensor(0.6708925, shape=(), dtype=float32) G enc loss tf.Tensor(0.36339384, shape=(), dtype=float32)\n"
     ]
    },
    {
     "data": {
      "image/png": "[encoded data removed]",
      "text/plain": [
       "<Figure size 432x288 with 1 Axes>"
      ]
     },
     "metadata": {
      "needs_background": "light"
     },
     "output_type": "display_data"
    },
    {
     "name": "stdout",
     "output_type": "stream",
     "text": [
      "epoch 1\n",
      "D tf.Tensor(1.913291, shape=(), dtype=float32) , G tf.Tensor(22.88343, shape=(), dtype=float32)\n",
      "D adv loss real tf.Tensor(0.776809, shape=(), dtype=float32) , D adv loss fake tf.Tensor(1.136482, shape=(), dtype=float32)\n",
      "G adv loss tf.Tensor(0.3870378, shape=(), dtype=float32) G contextual loss tf.Tensor(0.44992754, shape=(), dtype=float32) G enc loss tf.Tensor(1.6784643e-05, shape=(), dtype=float32)\n"
     ]
    },
    {
     "data": {
      "image/png": "[encoded data removed]",
      "text/plain": [
       "<Figure size 432x288 with 1 Axes>"
      ]
     },
     "metadata": {
      "needs_background": "light"
     },
     "output_type": "display_data"
    },
    {
     "name": "stdout",
     "output_type": "stream",
     "text": [
      "epoch 2\n",
      "D tf.Tensor(2.8224912, shape=(), dtype=float32) , G tf.Tensor(16.565584, shape=(), dtype=float32)\n",
      "D adv loss real tf.Tensor(0.7120314, shape=(), dtype=float32) , D adv loss fake tf.Tensor(2.1104598, shape=(), dtype=float32)\n",
      "G adv loss tf.Tensor(0.12819499, shape=(), dtype=float32) G contextual loss tf.Tensor(0.3285066, shape=(), dtype=float32) G enc loss tf.Tensor(0.012061039, shape=(), dtype=float32)\n"
     ]
    },
    {
     "data": {
      "image/png": "[encoded data removed]",
      "text/plain": [
       "<Figure size 432x288 with 1 Axes>"
      ]
     },
     "metadata": {
      "needs_background": "light"
     },
     "output_type": "display_data"
    },
    {
     "name": "stdout",
     "output_type": "stream",
     "text": [
      "epoch 3\n",
      "D tf.Tensor(3.3769002, shape=(), dtype=float32) , G tf.Tensor(13.694757, shape=(), dtype=float32)\n",
      "D adv loss real tf.Tensor(0.8329263, shape=(), dtype=float32) , D adv loss fake tf.Tensor(2.543974, shape=(), dtype=float32)\n",
      "G adv loss tf.Tensor(0.09793399, shape=(), dtype=float32) G contextual loss tf.Tensor(0.27159905, shape=(), dtype=float32) G enc loss tf.Tensor(0.016871233, shape=(), dtype=float32)\n"
     ]
    },
    {
     "data": {
      "image/png": "[encoded data removed]",
      "text/plain": [
       "<Figure size 432x288 with 1 Axes>"
      ]
     },
     "metadata": {
      "needs_background": "light"
     },
     "output_type": "display_data"
    },
    {
     "name": "stdout",
     "output_type": "stream",
     "text": [
      "epoch 4\n",
      "D tf.Tensor(3.42736, shape=(), dtype=float32) , G tf.Tensor(12.624517, shape=(), dtype=float32)\n",
      "D adv loss real tf.Tensor(0.8110241, shape=(), dtype=float32) , D adv loss fake tf.Tensor(2.6163359, shape=(), dtype=float32)\n",
      "G adv loss tf.Tensor(0.08814759, shape=(), dtype=float32) G contextual loss tf.Tensor(0.2504802, shape=(), dtype=float32) G enc loss tf.Tensor(0.012359967, shape=(), dtype=float32)\n"
     ]
    },
    {
     "data": {
      "image/png": "[encoded data removed]",
      "text/plain": [
       "<Figure size 432x288 with 1 Axes>"
      ]
     },
     "metadata": {
      "needs_background": "light"
     },
     "output_type": "display_data"
    },
    {
     "name": "stdout",
     "output_type": "stream",
     "text": [
      "epoch 5\n",
      "D tf.Tensor(3.378937, shape=(), dtype=float32) , G tf.Tensor(12.3255205, shape=(), dtype=float32)\n",
      "D adv loss real tf.Tensor(0.82844996, shape=(), dtype=float32) , D adv loss fake tf.Tensor(2.550487, shape=(), dtype=float32)\n",
      "G adv loss tf.Tensor(0.093688995, shape=(), dtype=float32) G contextual loss tf.Tensor(0.24437813, shape=(), dtype=float32) G enc loss tf.Tensor(0.012924864, shape=(), dtype=float32)\n"
     ]
    },
    {
     "data": {
      "image/png": "[encoded data removed]",
      "text/plain": [
       "<Figure size 432x288 with 1 Axes>"
      ]
     },
     "metadata": {
      "needs_background": "light"
     },
     "output_type": "display_data"
    },
    {
     "ename": "OSError",
     "evalue": "Unable to create file (unable to open file: name = './save_weight/GANormaly/GANomaly_5epochs.h5', errno = 2, error message = 'No such file or directory', flags = 13, o_flags = 242)",
     "output_type": "error",
     "traceback": [
      "\u001b[0;31m---------------------------------------------------------------------------\u001b[0m",
      "\u001b[0;31mOSError\u001b[0m                                   Traceback (most recent call last)",
      "\u001b[0;32m<ipython-input-23-7c819f15dc87>\u001b[0m in \u001b[0;36m<module>\u001b[0;34m\u001b[0m\n\u001b[0;32m----> 1\u001b[0;31m \u001b[0mtrain\u001b[0m\u001b[0;34m(\u001b[0m\u001b[0mx_train\u001b[0m\u001b[0;34m,\u001b[0m \u001b[0mn_epochs\u001b[0m\u001b[0;34m=\u001b[0m\u001b[0;36m16\u001b[0m\u001b[0;34m,\u001b[0m \u001b[0mn_batch\u001b[0m\u001b[0;34m=\u001b[0m\u001b[0;36m32\u001b[0m\u001b[0;34m,\u001b[0m \u001b[0mx_val\u001b[0m\u001b[0;34m=\u001b[0m\u001b[0mx_test_normal\u001b[0m\u001b[0;34m)\u001b[0m\u001b[0;34m\u001b[0m\u001b[0;34m\u001b[0m\u001b[0m\n\u001b[0m",
      "\u001b[0;32m<ipython-input-22-f169e1c8c80c>\u001b[0m in \u001b[0;36mtrain\u001b[0;34m(x_train, n_epochs, n_batch, x_val)\u001b[0m\n\u001b[1;32m     46\u001b[0m             \u001b[0;31m# 5エポック以降は重みを保存\u001b[0m\u001b[0;34m\u001b[0m\u001b[0;34m\u001b[0m\u001b[0;34m\u001b[0m\u001b[0m\n\u001b[1;32m     47\u001b[0m             \u001b[0;32mif\u001b[0m \u001b[0mi\u001b[0m\u001b[0;34m>\u001b[0m\u001b[0;36m4\u001b[0m\u001b[0;34m:\u001b[0m\u001b[0;34m\u001b[0m\u001b[0;34m\u001b[0m\u001b[0m\n\u001b[0;32m---> 48\u001b[0;31m                 \u001b[0mgan_G\u001b[0m\u001b[0;34m.\u001b[0m\u001b[0msave_weights\u001b[0m\u001b[0;34m(\u001b[0m\u001b[0mDATASET_PATH\u001b[0m \u001b[0;34m+\u001b[0m \u001b[0;34m'/GANomaly_%sepochs.h5'\u001b[0m \u001b[0;34m%\u001b[0m \u001b[0mi\u001b[0m\u001b[0;34m)\u001b[0m\u001b[0;34m\u001b[0m\u001b[0;34m\u001b[0m\u001b[0m\n\u001b[0m",
      "\u001b[0;32m~/.local/lib/python3.7/site-packages/tensorflow/python/keras/engine/training.py\u001b[0m in \u001b[0;36msave_weights\u001b[0;34m(self, filepath, overwrite, save_format, options)\u001b[0m\n\u001b[1;32m   2082\u001b[0m         \u001b[0;32mreturn\u001b[0m\u001b[0;34m\u001b[0m\u001b[0;34m\u001b[0m\u001b[0m\n\u001b[1;32m   2083\u001b[0m     \u001b[0;32mif\u001b[0m \u001b[0msave_format\u001b[0m \u001b[0;34m==\u001b[0m \u001b[0;34m'h5'\u001b[0m\u001b[0;34m:\u001b[0m\u001b[0;34m\u001b[0m\u001b[0;34m\u001b[0m\u001b[0m\n\u001b[0;32m-> 2084\u001b[0;31m       \u001b[0;32mwith\u001b[0m \u001b[0mh5py\u001b[0m\u001b[0;34m.\u001b[0m\u001b[0mFile\u001b[0m\u001b[0;34m(\u001b[0m\u001b[0mfilepath\u001b[0m\u001b[0;34m,\u001b[0m \u001b[0;34m'w'\u001b[0m\u001b[0;34m)\u001b[0m \u001b[0;32mas\u001b[0m \u001b[0mf\u001b[0m\u001b[0;34m:\u001b[0m\u001b[0;34m\u001b[0m\u001b[0;34m\u001b[0m\u001b[0m\n\u001b[0m\u001b[1;32m   2085\u001b[0m         \u001b[0mhdf5_format\u001b[0m\u001b[0;34m.\u001b[0m\u001b[0msave_weights_to_hdf5_group\u001b[0m\u001b[0;34m(\u001b[0m\u001b[0mf\u001b[0m\u001b[0;34m,\u001b[0m \u001b[0mself\u001b[0m\u001b[0;34m.\u001b[0m\u001b[0mlayers\u001b[0m\u001b[0;34m)\u001b[0m\u001b[0;34m\u001b[0m\u001b[0;34m\u001b[0m\u001b[0m\n\u001b[1;32m   2086\u001b[0m     \u001b[0;32melse\u001b[0m\u001b[0;34m:\u001b[0m\u001b[0;34m\u001b[0m\u001b[0;34m\u001b[0m\u001b[0m\n",
      "\u001b[0;32m~/.local/lib/python3.7/site-packages/h5py/_hl/files.py\u001b[0m in \u001b[0;36m__init__\u001b[0;34m(self, name, mode, driver, libver, userblock_size, swmr, rdcc_nslots, rdcc_nbytes, rdcc_w0, track_order, **kwds)\u001b[0m\n\u001b[1;32m    406\u001b[0m                 fid = make_fid(name, mode, userblock_size,\n\u001b[1;32m    407\u001b[0m                                \u001b[0mfapl\u001b[0m\u001b[0;34m,\u001b[0m \u001b[0mfcpl\u001b[0m\u001b[0;34m=\u001b[0m\u001b[0mmake_fcpl\u001b[0m\u001b[0;34m(\u001b[0m\u001b[0mtrack_order\u001b[0m\u001b[0;34m=\u001b[0m\u001b[0mtrack_order\u001b[0m\u001b[0;34m)\u001b[0m\u001b[0;34m,\u001b[0m\u001b[0;34m\u001b[0m\u001b[0;34m\u001b[0m\u001b[0m\n\u001b[0;32m--> 408\u001b[0;31m                                swmr=swmr)\n\u001b[0m\u001b[1;32m    409\u001b[0m \u001b[0;34m\u001b[0m\u001b[0m\n\u001b[1;32m    410\u001b[0m             \u001b[0;32mif\u001b[0m \u001b[0misinstance\u001b[0m\u001b[0;34m(\u001b[0m\u001b[0mlibver\u001b[0m\u001b[0;34m,\u001b[0m \u001b[0mtuple\u001b[0m\u001b[0;34m)\u001b[0m\u001b[0;34m:\u001b[0m\u001b[0;34m\u001b[0m\u001b[0;34m\u001b[0m\u001b[0m\n",
      "\u001b[0;32m~/.local/lib/python3.7/site-packages/h5py/_hl/files.py\u001b[0m in \u001b[0;36mmake_fid\u001b[0;34m(name, mode, userblock_size, fapl, fcpl, swmr)\u001b[0m\n\u001b[1;32m    177\u001b[0m         \u001b[0mfid\u001b[0m \u001b[0;34m=\u001b[0m \u001b[0mh5f\u001b[0m\u001b[0;34m.\u001b[0m\u001b[0mcreate\u001b[0m\u001b[0;34m(\u001b[0m\u001b[0mname\u001b[0m\u001b[0;34m,\u001b[0m \u001b[0mh5f\u001b[0m\u001b[0;34m.\u001b[0m\u001b[0mACC_EXCL\u001b[0m\u001b[0;34m,\u001b[0m \u001b[0mfapl\u001b[0m\u001b[0;34m=\u001b[0m\u001b[0mfapl\u001b[0m\u001b[0;34m,\u001b[0m \u001b[0mfcpl\u001b[0m\u001b[0;34m=\u001b[0m\u001b[0mfcpl\u001b[0m\u001b[0;34m)\u001b[0m\u001b[0;34m\u001b[0m\u001b[0;34m\u001b[0m\u001b[0m\n\u001b[1;32m    178\u001b[0m     \u001b[0;32melif\u001b[0m \u001b[0mmode\u001b[0m \u001b[0;34m==\u001b[0m \u001b[0;34m'w'\u001b[0m\u001b[0;34m:\u001b[0m\u001b[0;34m\u001b[0m\u001b[0;34m\u001b[0m\u001b[0m\n\u001b[0;32m--> 179\u001b[0;31m         \u001b[0mfid\u001b[0m \u001b[0;34m=\u001b[0m \u001b[0mh5f\u001b[0m\u001b[0;34m.\u001b[0m\u001b[0mcreate\u001b[0m\u001b[0;34m(\u001b[0m\u001b[0mname\u001b[0m\u001b[0;34m,\u001b[0m \u001b[0mh5f\u001b[0m\u001b[0;34m.\u001b[0m\u001b[0mACC_TRUNC\u001b[0m\u001b[0;34m,\u001b[0m \u001b[0mfapl\u001b[0m\u001b[0;34m=\u001b[0m\u001b[0mfapl\u001b[0m\u001b[0;34m,\u001b[0m \u001b[0mfcpl\u001b[0m\u001b[0;34m=\u001b[0m\u001b[0mfcpl\u001b[0m\u001b[0;34m)\u001b[0m\u001b[0;34m\u001b[0m\u001b[0;34m\u001b[0m\u001b[0m\n\u001b[0m\u001b[1;32m    180\u001b[0m     \u001b[0;32melif\u001b[0m \u001b[0mmode\u001b[0m \u001b[0;34m==\u001b[0m \u001b[0;34m'a'\u001b[0m\u001b[0;34m:\u001b[0m\u001b[0;34m\u001b[0m\u001b[0;34m\u001b[0m\u001b[0m\n\u001b[1;32m    181\u001b[0m         \u001b[0;31m# Open in append mode (read/write).\u001b[0m\u001b[0;34m\u001b[0m\u001b[0;34m\u001b[0m\u001b[0;34m\u001b[0m\u001b[0m\n",
      "\u001b[0;32mh5py/_objects.pyx\u001b[0m in \u001b[0;36mh5py._objects.with_phil.wrapper\u001b[0;34m()\u001b[0m\n",
      "\u001b[0;32mh5py/_objects.pyx\u001b[0m in \u001b[0;36mh5py._objects.with_phil.wrapper\u001b[0;34m()\u001b[0m\n",
      "\u001b[0;32mh5py/h5f.pyx\u001b[0m in \u001b[0;36mh5py.h5f.create\u001b[0;34m()\u001b[0m\n",
      "\u001b[0;31mOSError\u001b[0m: Unable to create file (unable to open file: name = './save_weight/GANormaly/GANomaly_5epochs.h5', errno = 2, error message = 'No such file or directory', flags = 13, o_flags = 242)"
     ]
    }
   ],
   "source": [
    "train(x_train, n_epochs=16, n_batch=32, x_val=x_test_normal)"
   ]
  },
  {
   "cell_type": "markdown",
   "metadata": {
    "id": "foGAxJy2QTRk"
   },
   "source": [
    "学習曲線"
   ]
  },
  {
   "cell_type": "code",
   "execution_count": null,
   "metadata": {
    "colab": {
     "base_uri": "https://localhost:8080/",
     "height": 513
    },
    "id": "0V51t3UpD8SL",
    "outputId": "dbb9977a-2ebd-4ca6-8352-0ec1776e709c"
   },
   "outputs": [],
   "source": [
    "d_losses = np.array(d_history)[:,0]\n",
    "g_losses = np.array(g_history)[:,0]\n",
    "\n",
    "plt.plot(d_losses)\n",
    "plt.show()\n",
    "\n",
    "plt.plot(g_losses)\n",
    "plt.show()"
   ]
  },
  {
   "cell_type": "markdown",
   "metadata": {
    "id": "D2f2Td0fQVtz"
   },
   "source": [
    "# 4. 学習済みモデルの評価\n",
    "\n",
    "異常スコアを計算する関数を実装しておく："
   ]
  },
  {
   "cell_type": "code",
   "execution_count": null,
   "metadata": {
    "id": "IXPSof3WBygO"
   },
   "outputs": [],
   "source": [
    "def anomaly_score(x_batch, pred_model=gan_G, lam=0.9):\n",
    "    _, x_subtruct, feat_subtruct = pred_model.predict(x_batch)\n",
    "    R = np.mean(np.abs(x_subtruct), axis=(1,2,3))\n",
    "    L = np.mean(feat_subtruct**2, axis=-1)\n",
    "    A = lam*R + (1-lam)*L\n",
    "    return A"
   ]
  },
  {
   "cell_type": "markdown",
   "metadata": {
    "id": "tZvYDE8zPHx4"
   },
   "source": [
    "早速、学習済みモデルをテストしてみよう。すぐさま過学習するので、エポック選択が重要だが、ここではsloppyにテストデータで見てしまおう（本当は検証データでエポック数を選ぶこと！! このように選んだ結果を論文に書いたら、これはモデル選択を介した典型的なスヌーピングです。）\n",
    "\n",
    "<b>6エポック</b>"
   ]
  },
  {
   "cell_type": "code",
   "execution_count": null,
   "metadata": {},
   "outputs": [],
   "source": [
    "gan_G.load_weights(DATASET_PATH + '/skip_GANomaly_5epochs.h5')\n",
    "\n",
    "score_anom = anomaly_score(x_test_anom, pred_model=gan_G)\n",
    "score_norm = anomaly_score(x_test_normal, pred_model=gan_G)\n",
    "scores = np.concatenate([score_anom,score_norm], axis=0)\n",
    "\n",
    "score_min, score_max = np.min(scores), np.max(scores)\n",
    "\n",
    "score_anom = (score_anom - score_min)/(score_max- score_min)\n",
    "score_norm = (score_norm - score_min)/(score_max- score_min)\n",
    "\n",
    "plt.hist(score_norm, bins=50)\n",
    "plt.hist(score_anom, bins=50, alpha=0.8)\n",
    "plt.show()"
   ]
  },
  {
   "cell_type": "markdown",
   "metadata": {
    "id": "pe4DL9D4JqJq"
   },
   "source": [
    "<b>7エポック</b>"
   ]
  },
  {
   "cell_type": "code",
   "execution_count": null,
   "metadata": {
    "id": "YpTXfSpOJqJr",
    "outputId": "4c5176d3-bfb0-4b95-941a-c8da74b62a51"
   },
   "outputs": [],
   "source": [
    "gan_G.load_weights(DATASET_PATH + '/skip_GANomaly_6epochs.h5')\n",
    "\n",
    "score_anom = anomaly_score(x_test_anom, pred_model=gan_G)\n",
    "score_norm = anomaly_score(x_test_normal, pred_model=gan_G)\n",
    "scores = np.concatenate([score_anom,score_norm], axis=0)\n",
    "\n",
    "score_min, score_max = np.min(scores), np.max(scores)\n",
    "\n",
    "score_anom = (score_anom - score_min)/(score_max- score_min)\n",
    "score_norm = (score_norm - score_min)/(score_max- score_min)\n",
    "\n",
    "plt.hist(score_norm, bins=50)\n",
    "plt.hist(score_anom, bins=50, alpha=0.8)\n",
    "plt.show()"
   ]
  },
  {
   "cell_type": "markdown",
   "metadata": {
    "id": "zQMxVjO1JqJs"
   },
   "source": [
    "<b>8エポック</b>"
   ]
  },
  {
   "cell_type": "code",
   "execution_count": null,
   "metadata": {
    "id": "JyUsDtPqJqJt",
    "outputId": "7c0cbc74-6c25-4711-b634-1e7c542e8bfa"
   },
   "outputs": [],
   "source": [
    "gan_G.load_weights(DATASET_PATH + '/skip_GANomaly_7epochs.h5')\n",
    "\n",
    "score_anom = anomaly_score(x_test_anom, pred_model=gan_G)\n",
    "score_norm = anomaly_score(x_test_normal, pred_model=gan_G)\n",
    "scores = np.concatenate([score_anom,score_norm], axis=0)\n",
    "\n",
    "score_min, score_max = np.min(scores), np.max(scores)\n",
    "\n",
    "score_anom = (score_anom - score_min)/(score_max- score_min)\n",
    "score_norm = (score_norm - score_min)/(score_max- score_min)\n",
    "\n",
    "plt.hist(score_norm, bins=50)\n",
    "plt.hist(score_anom, bins=50, alpha=0.8)\n",
    "plt.show()"
   ]
  },
  {
   "cell_type": "markdown",
   "metadata": {
    "id": "7qHqOMNxJqJu"
   },
   "source": [
    "<b>9エポック</b>"
   ]
  },
  {
   "cell_type": "code",
   "execution_count": null,
   "metadata": {
    "id": "358rW-VxJqJu",
    "outputId": "72b13dd5-d9fd-4b2d-c804-98eaadd3d760"
   },
   "outputs": [],
   "source": [
    "gan_G.load_weights(DATASET_PATH + '/skip_GANomaly_8epochs.h5')\n",
    "\n",
    "score_anom = anomaly_score(x_test_anom, pred_model=gan_G)\n",
    "score_norm = anomaly_score(x_test_normal, pred_model=gan_G)\n",
    "scores = np.concatenate([score_anom,score_norm], axis=0)\n",
    "\n",
    "score_min, score_max = np.min(scores), np.max(scores)\n",
    "\n",
    "score_anom = (score_anom - score_min)/(score_max- score_min)\n",
    "score_norm = (score_norm - score_min)/(score_max- score_min)\n",
    "\n",
    "plt.hist(score_norm, bins=50)\n",
    "plt.hist(score_anom, bins=50, alpha=0.8)\n",
    "plt.show()"
   ]
  },
  {
   "cell_type": "code",
   "execution_count": null,
   "metadata": {
    "id": "JzPzHE9zJqJv"
   },
   "outputs": [],
   "source": []
  },
  {
   "cell_type": "markdown",
   "metadata": {
    "id": "V6sd61_RKwnt"
   },
   "source": [
    "# 問題\n",
    "\n",
    "学習済みの重み（7エポック）を配布したので、このモデルに対して異常検知のAUCを測りましょう。\n",
    "\n",
    "また、y=0以外のクラスについても学習させ、異常カテゴリごとのAUCの違いを観察せよ（GANomalyなどの論文の結果と比べてみるとよい）。\n",
    "\n",
    "またこの実装が原実装の細部を再現している保証はないので、詳しく調べてこのコードを改善せよ（そして調査結果を私に教えてください…）。"
   ]
  },
  {
   "cell_type": "code",
   "execution_count": null,
   "metadata": {
    "id": "_JCcHiweLTbV"
   },
   "outputs": [],
   "source": []
  }
 ],
 "metadata": {
  "accelerator": "GPU",
  "colab": {
   "collapsed_sections": [],
   "name": "A_thousand_ball_drill20210324_Skip-GANomaly.ipynb",
   "provenance": []
  },
  "kernelspec": {
   "display_name": "Python 3",
   "language": "python",
   "name": "python3"
  },
  "language_info": {
   "codemirror_mode": {
    "name": "ipython",
    "version": 3
   },
   "file_extension": ".py",
   "mimetype": "text/x-python",
   "name": "python",
   "nbconvert_exporter": "python",
   "pygments_lexer": "ipython3",
   "version": "3.7.4"
  }
 },
 "nbformat": 4,
 "nbformat_minor": 4
}
